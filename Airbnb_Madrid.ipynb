{
 "cells": [
  {
   "cell_type": "markdown",
   "id": "06188888",
   "metadata": {},
   "source": [
    "<h1><center>\n",
    "     AIRBNB MADRID PROJECT\n",
    "</center></h1>"
   ]
  },
  {
   "cell_type": "markdown",
   "id": "6ae2684d",
   "metadata": {},
   "source": [
    "![title](madrid.png)"
   ]
  },
  {
   "cell_type": "code",
   "execution_count": 1,
   "id": "e27ea9e1",
   "metadata": {},
   "outputs": [],
   "source": [
    "import pandas as pd\n",
    "import numpy as np\n",
    "import matplotlib.pyplot as plt\n",
    "import sys\n",
    "import seaborn as sns\n",
    "from sklearn.linear_model import LinearRegression\n",
    "from sklearn.model_selection import train_test_split\n",
    "from sklearn.metrics import r2_score, mean_squared_error\n",
    "from sklearn import preprocessing\n",
    "sns.set(style=\"white\")\n",
    "sns.set(style=\"whitegrid\", color_codes=True)\n",
    "%matplotlib inline\n",
    "pd.set_option('display.max_columns', None)\n",
    "from carbo import*\n",
    "\n"
   ]
  },
  {
   "cell_type": "code",
   "execution_count": 2,
   "id": "983455c8",
   "metadata": {},
   "outputs": [],
   "source": [
    "listing_df = pd.read_csv('listings_madrid.csv')\n",
    "calendar_df = pd.read_csv('calendar_madrid.csv')\n",
    "\n",
    "listing_copy = listing_df"
   ]
  },
  {
   "cell_type": "markdown",
   "id": "6c3d3e94",
   "metadata": {},
   "source": [
    "# CRISP-DM PROCESS"
   ]
  },
  {
   "cell_type": "markdown",
   "id": "d565d799",
   "metadata": {},
   "source": [
    "## 1.- *Business Understanding*"
   ]
  },
  {
   "cell_type": "markdown",
   "id": "352f2dc2",
   "metadata": {},
   "source": [
    "This dataset is full of information about the accommodates avaible in Airbnb in the city of Madrid. With all this information we are going to ask ourself a few questions:<br>\n",
    "\n",
    "Q1.-Is the quantity of accommodation offered equal all around Madrid?\n",
    "\n",
    "Q2.-If a neighborhood group has a lot of accommodations, does it mean that each of its individual neighborhoods has them too? \n",
    "\n",
    "Q3.-Are the prices equal all over Madrid? \n",
    "\n",
    "Q4.-How are the prices and availability rates in Madrid over the next few months? \n",
    "\n",
    "Q5.-Finally, how well can we predict prices based on the rest of the features? For this task, I will fit a linear model that will estimate the price based on other features.\n"
   ]
  },
  {
   "cell_type": "markdown",
   "id": "9d9b367f",
   "metadata": {},
   "source": [
    "## 2.- *Data Understanding*"
   ]
  },
  {
   "cell_type": "code",
   "execution_count": 3,
   "id": "cad05302",
   "metadata": {},
   "outputs": [],
   "source": [
    "pd.set_option('display.max_columns', None) #To be able to see all the columns"
   ]
  },
  {
   "cell_type": "code",
   "execution_count": 4,
   "id": "212353f5",
   "metadata": {},
   "outputs": [
    {
     "data": {
      "text/html": [
       "<div>\n",
       "<style scoped>\n",
       "    .dataframe tbody tr th:only-of-type {\n",
       "        vertical-align: middle;\n",
       "    }\n",
       "\n",
       "    .dataframe tbody tr th {\n",
       "        vertical-align: top;\n",
       "    }\n",
       "\n",
       "    .dataframe thead th {\n",
       "        text-align: right;\n",
       "    }\n",
       "</style>\n",
       "<table border=\"1\" class=\"dataframe\">\n",
       "  <thead>\n",
       "    <tr style=\"text-align: right;\">\n",
       "      <th></th>\n",
       "      <th>id</th>\n",
       "      <th>listing_url</th>\n",
       "      <th>scrape_id</th>\n",
       "      <th>last_scraped</th>\n",
       "      <th>name</th>\n",
       "      <th>description</th>\n",
       "      <th>neighborhood_overview</th>\n",
       "      <th>picture_url</th>\n",
       "      <th>host_id</th>\n",
       "      <th>host_url</th>\n",
       "      <th>host_name</th>\n",
       "      <th>host_since</th>\n",
       "      <th>host_location</th>\n",
       "      <th>host_about</th>\n",
       "      <th>host_response_time</th>\n",
       "      <th>host_response_rate</th>\n",
       "      <th>host_acceptance_rate</th>\n",
       "      <th>host_is_superhost</th>\n",
       "      <th>host_thumbnail_url</th>\n",
       "      <th>host_picture_url</th>\n",
       "      <th>host_neighbourhood</th>\n",
       "      <th>host_listings_count</th>\n",
       "      <th>host_total_listings_count</th>\n",
       "      <th>host_verifications</th>\n",
       "      <th>host_has_profile_pic</th>\n",
       "      <th>host_identity_verified</th>\n",
       "      <th>neighbourhood</th>\n",
       "      <th>neighbourhood_cleansed</th>\n",
       "      <th>neighbourhood_group_cleansed</th>\n",
       "      <th>latitude</th>\n",
       "      <th>longitude</th>\n",
       "      <th>property_type</th>\n",
       "      <th>room_type</th>\n",
       "      <th>accommodates</th>\n",
       "      <th>bathrooms</th>\n",
       "      <th>bathrooms_text</th>\n",
       "      <th>bedrooms</th>\n",
       "      <th>beds</th>\n",
       "      <th>amenities</th>\n",
       "      <th>price</th>\n",
       "      <th>minimum_nights</th>\n",
       "      <th>maximum_nights</th>\n",
       "      <th>minimum_minimum_nights</th>\n",
       "      <th>maximum_minimum_nights</th>\n",
       "      <th>minimum_maximum_nights</th>\n",
       "      <th>maximum_maximum_nights</th>\n",
       "      <th>minimum_nights_avg_ntm</th>\n",
       "      <th>maximum_nights_avg_ntm</th>\n",
       "      <th>calendar_updated</th>\n",
       "      <th>has_availability</th>\n",
       "      <th>availability_30</th>\n",
       "      <th>availability_60</th>\n",
       "      <th>availability_90</th>\n",
       "      <th>availability_365</th>\n",
       "      <th>calendar_last_scraped</th>\n",
       "      <th>number_of_reviews</th>\n",
       "      <th>number_of_reviews_ltm</th>\n",
       "      <th>number_of_reviews_l30d</th>\n",
       "      <th>first_review</th>\n",
       "      <th>last_review</th>\n",
       "      <th>review_scores_rating</th>\n",
       "      <th>review_scores_accuracy</th>\n",
       "      <th>review_scores_cleanliness</th>\n",
       "      <th>review_scores_checkin</th>\n",
       "      <th>review_scores_communication</th>\n",
       "      <th>review_scores_location</th>\n",
       "      <th>review_scores_value</th>\n",
       "      <th>license</th>\n",
       "      <th>instant_bookable</th>\n",
       "      <th>calculated_host_listings_count</th>\n",
       "      <th>calculated_host_listings_count_entire_homes</th>\n",
       "      <th>calculated_host_listings_count_private_rooms</th>\n",
       "      <th>calculated_host_listings_count_shared_rooms</th>\n",
       "      <th>reviews_per_month</th>\n",
       "    </tr>\n",
       "  </thead>\n",
       "  <tbody>\n",
       "    <tr>\n",
       "      <th>0</th>\n",
       "      <td>6369</td>\n",
       "      <td>https://www.airbnb.com/rooms/6369</td>\n",
       "      <td>20220607181944</td>\n",
       "      <td>2022-06-07</td>\n",
       "      <td>Rooftop terrace room ,  ensuite bathroom</td>\n",
       "      <td>Excellent connection with the AIRPORT and EXHI...</td>\n",
       "      <td>NaN</td>\n",
       "      <td>https://a0.muscache.com/pictures/683224/4cc318...</td>\n",
       "      <td>13660</td>\n",
       "      <td>https://www.airbnb.com/users/show/13660</td>\n",
       "      <td>Simon</td>\n",
       "      <td>2009-04-16</td>\n",
       "      <td>Madrid, Community of Madrid, Spain</td>\n",
       "      <td>Gay couple, heterofriendly, enjoy having guest...</td>\n",
       "      <td>within a few hours</td>\n",
       "      <td>100%</td>\n",
       "      <td>84%</td>\n",
       "      <td>f</td>\n",
       "      <td>https://a0.muscache.com/im/pictures/user/1c793...</td>\n",
       "      <td>https://a0.muscache.com/im/pictures/user/1c793...</td>\n",
       "      <td>Hispanoamérica</td>\n",
       "      <td>1.0</td>\n",
       "      <td>1.0</td>\n",
       "      <td>['email', 'phone']</td>\n",
       "      <td>t</td>\n",
       "      <td>t</td>\n",
       "      <td>NaN</td>\n",
       "      <td>Hispanoamérica</td>\n",
       "      <td>Chamartín</td>\n",
       "      <td>40.45724</td>\n",
       "      <td>-3.67688</td>\n",
       "      <td>Private room in rental unit</td>\n",
       "      <td>Private room</td>\n",
       "      <td>2</td>\n",
       "      <td>NaN</td>\n",
       "      <td>1 private bath</td>\n",
       "      <td>1.0</td>\n",
       "      <td>1.0</td>\n",
       "      <td>[\"Long term stays allowed\", \"Iron\", \"Heating\",...</td>\n",
       "      <td>$69.00</td>\n",
       "      <td>3</td>\n",
       "      <td>1125</td>\n",
       "      <td>1.0</td>\n",
       "      <td>21.0</td>\n",
       "      <td>8.0</td>\n",
       "      <td>1125.0</td>\n",
       "      <td>6.0</td>\n",
       "      <td>1122.5</td>\n",
       "      <td>NaN</td>\n",
       "      <td>t</td>\n",
       "      <td>5</td>\n",
       "      <td>12</td>\n",
       "      <td>22</td>\n",
       "      <td>92</td>\n",
       "      <td>2022-06-07</td>\n",
       "      <td>95</td>\n",
       "      <td>17</td>\n",
       "      <td>3</td>\n",
       "      <td>2010-03-14</td>\n",
       "      <td>2022-06-07</td>\n",
       "      <td>4.86</td>\n",
       "      <td>4.90</td>\n",
       "      <td>4.81</td>\n",
       "      <td>4.74</td>\n",
       "      <td>4.84</td>\n",
       "      <td>4.82</td>\n",
       "      <td>4.84</td>\n",
       "      <td>NaN</td>\n",
       "      <td>f</td>\n",
       "      <td>1</td>\n",
       "      <td>0</td>\n",
       "      <td>1</td>\n",
       "      <td>0</td>\n",
       "      <td>0.64</td>\n",
       "    </tr>\n",
       "    <tr>\n",
       "      <th>1</th>\n",
       "      <td>336672</td>\n",
       "      <td>https://www.airbnb.com/rooms/336672</td>\n",
       "      <td>20220607181944</td>\n",
       "      <td>2022-06-07</td>\n",
       "      <td>Great apartment ∞4 rooms∞ close to City Center</td>\n",
       "      <td>Wonderful bright apartment near El Matadero, a...</td>\n",
       "      <td>Central neighborhood, 5 min walk from Madrid R...</td>\n",
       "      <td>https://a0.muscache.com/pictures/99a81a76-68f0...</td>\n",
       "      <td>1716726</td>\n",
       "      <td>https://www.airbnb.com/users/show/1716726</td>\n",
       "      <td>Jesús</td>\n",
       "      <td>2012-02-07</td>\n",
       "      <td>Neuchâtel, Neuchâtel, Switzerland</td>\n",
       "      <td>NaN</td>\n",
       "      <td>within an hour</td>\n",
       "      <td>100%</td>\n",
       "      <td>98%</td>\n",
       "      <td>t</td>\n",
       "      <td>https://a0.muscache.com/im/pictures/user/07982...</td>\n",
       "      <td>https://a0.muscache.com/im/pictures/user/07982...</td>\n",
       "      <td>Delicias</td>\n",
       "      <td>5.0</td>\n",
       "      <td>5.0</td>\n",
       "      <td>['email', 'phone']</td>\n",
       "      <td>t</td>\n",
       "      <td>t</td>\n",
       "      <td>Madrid, Spain</td>\n",
       "      <td>Delicias</td>\n",
       "      <td>Arganzuela</td>\n",
       "      <td>40.39516</td>\n",
       "      <td>-3.69309</td>\n",
       "      <td>Entire rental unit</td>\n",
       "      <td>Entire home/apt</td>\n",
       "      <td>6</td>\n",
       "      <td>NaN</td>\n",
       "      <td>2 baths</td>\n",
       "      <td>4.0</td>\n",
       "      <td>4.0</td>\n",
       "      <td>[\"Long term stays allowed\", \"Microwave\", \"Stov...</td>\n",
       "      <td>$106.00</td>\n",
       "      <td>3</td>\n",
       "      <td>35</td>\n",
       "      <td>1.0</td>\n",
       "      <td>3.0</td>\n",
       "      <td>1125.0</td>\n",
       "      <td>1125.0</td>\n",
       "      <td>1.7</td>\n",
       "      <td>1125.0</td>\n",
       "      <td>NaN</td>\n",
       "      <td>t</td>\n",
       "      <td>4</td>\n",
       "      <td>18</td>\n",
       "      <td>41</td>\n",
       "      <td>41</td>\n",
       "      <td>2022-06-07</td>\n",
       "      <td>82</td>\n",
       "      <td>25</td>\n",
       "      <td>4</td>\n",
       "      <td>2017-12-10</td>\n",
       "      <td>2022-05-30</td>\n",
       "      <td>4.82</td>\n",
       "      <td>4.82</td>\n",
       "      <td>4.62</td>\n",
       "      <td>4.80</td>\n",
       "      <td>4.94</td>\n",
       "      <td>4.80</td>\n",
       "      <td>4.76</td>\n",
       "      <td>NaN</td>\n",
       "      <td>f</td>\n",
       "      <td>5</td>\n",
       "      <td>1</td>\n",
       "      <td>4</td>\n",
       "      <td>0</td>\n",
       "      <td>1.50</td>\n",
       "    </tr>\n",
       "    <tr>\n",
       "      <th>2</th>\n",
       "      <td>21853</td>\n",
       "      <td>https://www.airbnb.com/rooms/21853</td>\n",
       "      <td>20220607181944</td>\n",
       "      <td>2022-06-07</td>\n",
       "      <td>Bright and airy room</td>\n",
       "      <td>We have a quiet and sunny room with a good vie...</td>\n",
       "      <td>We live in a leafy neighbourhood with plenty o...</td>\n",
       "      <td>https://a0.muscache.com/pictures/68483181/87bc...</td>\n",
       "      <td>83531</td>\n",
       "      <td>https://www.airbnb.com/users/show/83531</td>\n",
       "      <td>Abdel</td>\n",
       "      <td>2010-02-21</td>\n",
       "      <td>Madrid, Madrid, Spain</td>\n",
       "      <td>EN-ES-FR\\r\\nEN\\r\\nHi everybody: I'm Abdel. I'm...</td>\n",
       "      <td>NaN</td>\n",
       "      <td>NaN</td>\n",
       "      <td>0%</td>\n",
       "      <td>f</td>\n",
       "      <td>https://a0.muscache.com/im/users/83531/profile...</td>\n",
       "      <td>https://a0.muscache.com/im/users/83531/profile...</td>\n",
       "      <td>Aluche</td>\n",
       "      <td>2.0</td>\n",
       "      <td>2.0</td>\n",
       "      <td>['email', 'phone']</td>\n",
       "      <td>t</td>\n",
       "      <td>t</td>\n",
       "      <td>Madrid, Spain</td>\n",
       "      <td>Cármenes</td>\n",
       "      <td>Latina</td>\n",
       "      <td>40.40381</td>\n",
       "      <td>-3.74130</td>\n",
       "      <td>Private room in rental unit</td>\n",
       "      <td>Private room</td>\n",
       "      <td>1</td>\n",
       "      <td>NaN</td>\n",
       "      <td>1 bath</td>\n",
       "      <td>1.0</td>\n",
       "      <td>1.0</td>\n",
       "      <td>[\"Long term stays allowed\", \"Microwave\", \"Air ...</td>\n",
       "      <td>$31.00</td>\n",
       "      <td>4</td>\n",
       "      <td>40</td>\n",
       "      <td>4.0</td>\n",
       "      <td>4.0</td>\n",
       "      <td>40.0</td>\n",
       "      <td>40.0</td>\n",
       "      <td>4.0</td>\n",
       "      <td>40.0</td>\n",
       "      <td>NaN</td>\n",
       "      <td>t</td>\n",
       "      <td>0</td>\n",
       "      <td>5</td>\n",
       "      <td>35</td>\n",
       "      <td>310</td>\n",
       "      <td>2022-06-07</td>\n",
       "      <td>33</td>\n",
       "      <td>0</td>\n",
       "      <td>0</td>\n",
       "      <td>2014-10-10</td>\n",
       "      <td>2018-07-15</td>\n",
       "      <td>4.58</td>\n",
       "      <td>4.72</td>\n",
       "      <td>4.56</td>\n",
       "      <td>4.75</td>\n",
       "      <td>4.82</td>\n",
       "      <td>4.21</td>\n",
       "      <td>4.67</td>\n",
       "      <td>NaN</td>\n",
       "      <td>f</td>\n",
       "      <td>2</td>\n",
       "      <td>0</td>\n",
       "      <td>2</td>\n",
       "      <td>0</td>\n",
       "      <td>0.35</td>\n",
       "    </tr>\n",
       "    <tr>\n",
       "      <th>3</th>\n",
       "      <td>336834</td>\n",
       "      <td>https://www.airbnb.com/rooms/336834</td>\n",
       "      <td>20220607181944</td>\n",
       "      <td>2022-06-07</td>\n",
       "      <td>2 bedroom apartament in Chueca-Fuen</td>\n",
       "      <td>Comfy and cozzy Two bedrooms apartment in Down...</td>\n",
       "      <td>NaN</td>\n",
       "      <td>https://a0.muscache.com/pictures/miso/Hosting-...</td>\n",
       "      <td>1713427</td>\n",
       "      <td>https://www.airbnb.com/users/show/1713427</td>\n",
       "      <td>Helena</td>\n",
       "      <td>2012-02-07</td>\n",
       "      <td>Madrid, Madrid, Spain</td>\n",
       "      <td>Somos una familia a la que le gusta viajar con...</td>\n",
       "      <td>within a few hours</td>\n",
       "      <td>100%</td>\n",
       "      <td>89%</td>\n",
       "      <td>f</td>\n",
       "      <td>https://a0.muscache.com/im/users/1713427/profi...</td>\n",
       "      <td>https://a0.muscache.com/im/users/1713427/profi...</td>\n",
       "      <td>Justicia</td>\n",
       "      <td>1.0</td>\n",
       "      <td>1.0</td>\n",
       "      <td>['email', 'phone']</td>\n",
       "      <td>t</td>\n",
       "      <td>t</td>\n",
       "      <td>NaN</td>\n",
       "      <td>Justicia</td>\n",
       "      <td>Centro</td>\n",
       "      <td>40.42242</td>\n",
       "      <td>-3.69562</td>\n",
       "      <td>Entire rental unit</td>\n",
       "      <td>Entire home/apt</td>\n",
       "      <td>5</td>\n",
       "      <td>NaN</td>\n",
       "      <td>1 bath</td>\n",
       "      <td>2.0</td>\n",
       "      <td>3.0</td>\n",
       "      <td>[\"Long term stays allowed\", \"Microwave\", \"Stov...</td>\n",
       "      <td>$65.00</td>\n",
       "      <td>5</td>\n",
       "      <td>1125</td>\n",
       "      <td>5.0</td>\n",
       "      <td>5.0</td>\n",
       "      <td>1125.0</td>\n",
       "      <td>1125.0</td>\n",
       "      <td>5.0</td>\n",
       "      <td>1125.0</td>\n",
       "      <td>NaN</td>\n",
       "      <td>t</td>\n",
       "      <td>0</td>\n",
       "      <td>7</td>\n",
       "      <td>7</td>\n",
       "      <td>7</td>\n",
       "      <td>2022-06-07</td>\n",
       "      <td>46</td>\n",
       "      <td>2</td>\n",
       "      <td>0</td>\n",
       "      <td>2012-04-01</td>\n",
       "      <td>2021-08-29</td>\n",
       "      <td>4.62</td>\n",
       "      <td>4.75</td>\n",
       "      <td>4.25</td>\n",
       "      <td>4.86</td>\n",
       "      <td>4.77</td>\n",
       "      <td>4.95</td>\n",
       "      <td>4.60</td>\n",
       "      <td>NaN</td>\n",
       "      <td>f</td>\n",
       "      <td>1</td>\n",
       "      <td>1</td>\n",
       "      <td>0</td>\n",
       "      <td>0</td>\n",
       "      <td>0.37</td>\n",
       "    </tr>\n",
       "    <tr>\n",
       "      <th>4</th>\n",
       "      <td>23001</td>\n",
       "      <td>https://www.airbnb.com/rooms/23001</td>\n",
       "      <td>20220607181944</td>\n",
       "      <td>2022-06-07</td>\n",
       "      <td>Apartmento Arganzuela- Madrid Rio</td>\n",
       "      <td>Apartamento de tres dormitorios dobles, gran s...</td>\n",
       "      <td>Barrio Arganzuela, junto a Madrid Rio, zonas c...</td>\n",
       "      <td>https://a0.muscache.com/pictures/58e6a770-509c...</td>\n",
       "      <td>82175</td>\n",
       "      <td>https://www.airbnb.com/users/show/82175</td>\n",
       "      <td>Jesus</td>\n",
       "      <td>2010-02-17</td>\n",
       "      <td>Madrid, Community of Madrid, Spain</td>\n",
       "      <td>Hi,\\r\\n\\r\\nWelcome to my apartments in the dow...</td>\n",
       "      <td>within an hour</td>\n",
       "      <td>100%</td>\n",
       "      <td>74%</td>\n",
       "      <td>f</td>\n",
       "      <td>https://a0.muscache.com/im/pictures/user/52bdf...</td>\n",
       "      <td>https://a0.muscache.com/im/pictures/user/52bdf...</td>\n",
       "      <td>Legazpi</td>\n",
       "      <td>9.0</td>\n",
       "      <td>9.0</td>\n",
       "      <td>['email', 'phone']</td>\n",
       "      <td>t</td>\n",
       "      <td>t</td>\n",
       "      <td>Madrid, Comunidad de Madrid, Spain</td>\n",
       "      <td>Legazpi</td>\n",
       "      <td>Arganzuela</td>\n",
       "      <td>40.38840</td>\n",
       "      <td>-3.69511</td>\n",
       "      <td>Entire rental unit</td>\n",
       "      <td>Entire home/apt</td>\n",
       "      <td>6</td>\n",
       "      <td>NaN</td>\n",
       "      <td>2 baths</td>\n",
       "      <td>3.0</td>\n",
       "      <td>3.0</td>\n",
       "      <td>[\"Long term stays allowed\", \"Luggage dropoff a...</td>\n",
       "      <td>$46.00</td>\n",
       "      <td>15</td>\n",
       "      <td>730</td>\n",
       "      <td>15.0</td>\n",
       "      <td>15.0</td>\n",
       "      <td>730.0</td>\n",
       "      <td>730.0</td>\n",
       "      <td>15.0</td>\n",
       "      <td>730.0</td>\n",
       "      <td>NaN</td>\n",
       "      <td>t</td>\n",
       "      <td>8</td>\n",
       "      <td>33</td>\n",
       "      <td>63</td>\n",
       "      <td>319</td>\n",
       "      <td>2022-06-07</td>\n",
       "      <td>1</td>\n",
       "      <td>1</td>\n",
       "      <td>0</td>\n",
       "      <td>2022-03-01</td>\n",
       "      <td>2022-03-01</td>\n",
       "      <td>5.00</td>\n",
       "      <td>5.00</td>\n",
       "      <td>4.00</td>\n",
       "      <td>5.00</td>\n",
       "      <td>5.00</td>\n",
       "      <td>4.00</td>\n",
       "      <td>5.00</td>\n",
       "      <td>NaN</td>\n",
       "      <td>f</td>\n",
       "      <td>7</td>\n",
       "      <td>7</td>\n",
       "      <td>0</td>\n",
       "      <td>0</td>\n",
       "      <td>0.30</td>\n",
       "    </tr>\n",
       "  </tbody>\n",
       "</table>\n",
       "</div>"
      ],
      "text/plain": [
       "       id                          listing_url       scrape_id last_scraped  \\\n",
       "0    6369    https://www.airbnb.com/rooms/6369  20220607181944   2022-06-07   \n",
       "1  336672  https://www.airbnb.com/rooms/336672  20220607181944   2022-06-07   \n",
       "2   21853   https://www.airbnb.com/rooms/21853  20220607181944   2022-06-07   \n",
       "3  336834  https://www.airbnb.com/rooms/336834  20220607181944   2022-06-07   \n",
       "4   23001   https://www.airbnb.com/rooms/23001  20220607181944   2022-06-07   \n",
       "\n",
       "                                             name  \\\n",
       "0        Rooftop terrace room ,  ensuite bathroom   \n",
       "1  Great apartment ∞4 rooms∞ close to City Center   \n",
       "2                            Bright and airy room   \n",
       "3             2 bedroom apartament in Chueca-Fuen   \n",
       "4               Apartmento Arganzuela- Madrid Rio   \n",
       "\n",
       "                                         description  \\\n",
       "0  Excellent connection with the AIRPORT and EXHI...   \n",
       "1  Wonderful bright apartment near El Matadero, a...   \n",
       "2  We have a quiet and sunny room with a good vie...   \n",
       "3  Comfy and cozzy Two bedrooms apartment in Down...   \n",
       "4  Apartamento de tres dormitorios dobles, gran s...   \n",
       "\n",
       "                               neighborhood_overview  \\\n",
       "0                                                NaN   \n",
       "1  Central neighborhood, 5 min walk from Madrid R...   \n",
       "2  We live in a leafy neighbourhood with plenty o...   \n",
       "3                                                NaN   \n",
       "4  Barrio Arganzuela, junto a Madrid Rio, zonas c...   \n",
       "\n",
       "                                         picture_url  host_id  \\\n",
       "0  https://a0.muscache.com/pictures/683224/4cc318...    13660   \n",
       "1  https://a0.muscache.com/pictures/99a81a76-68f0...  1716726   \n",
       "2  https://a0.muscache.com/pictures/68483181/87bc...    83531   \n",
       "3  https://a0.muscache.com/pictures/miso/Hosting-...  1713427   \n",
       "4  https://a0.muscache.com/pictures/58e6a770-509c...    82175   \n",
       "\n",
       "                                    host_url host_name  host_since  \\\n",
       "0    https://www.airbnb.com/users/show/13660     Simon  2009-04-16   \n",
       "1  https://www.airbnb.com/users/show/1716726     Jesús  2012-02-07   \n",
       "2    https://www.airbnb.com/users/show/83531     Abdel  2010-02-21   \n",
       "3  https://www.airbnb.com/users/show/1713427    Helena  2012-02-07   \n",
       "4    https://www.airbnb.com/users/show/82175     Jesus  2010-02-17   \n",
       "\n",
       "                        host_location  \\\n",
       "0  Madrid, Community of Madrid, Spain   \n",
       "1   Neuchâtel, Neuchâtel, Switzerland   \n",
       "2               Madrid, Madrid, Spain   \n",
       "3               Madrid, Madrid, Spain   \n",
       "4  Madrid, Community of Madrid, Spain   \n",
       "\n",
       "                                          host_about  host_response_time  \\\n",
       "0  Gay couple, heterofriendly, enjoy having guest...  within a few hours   \n",
       "1                                                NaN      within an hour   \n",
       "2  EN-ES-FR\\r\\nEN\\r\\nHi everybody: I'm Abdel. I'm...                 NaN   \n",
       "3  Somos una familia a la que le gusta viajar con...  within a few hours   \n",
       "4  Hi,\\r\\n\\r\\nWelcome to my apartments in the dow...      within an hour   \n",
       "\n",
       "  host_response_rate host_acceptance_rate host_is_superhost  \\\n",
       "0               100%                  84%                 f   \n",
       "1               100%                  98%                 t   \n",
       "2                NaN                   0%                 f   \n",
       "3               100%                  89%                 f   \n",
       "4               100%                  74%                 f   \n",
       "\n",
       "                                  host_thumbnail_url  \\\n",
       "0  https://a0.muscache.com/im/pictures/user/1c793...   \n",
       "1  https://a0.muscache.com/im/pictures/user/07982...   \n",
       "2  https://a0.muscache.com/im/users/83531/profile...   \n",
       "3  https://a0.muscache.com/im/users/1713427/profi...   \n",
       "4  https://a0.muscache.com/im/pictures/user/52bdf...   \n",
       "\n",
       "                                    host_picture_url host_neighbourhood  \\\n",
       "0  https://a0.muscache.com/im/pictures/user/1c793...     Hispanoamérica   \n",
       "1  https://a0.muscache.com/im/pictures/user/07982...           Delicias   \n",
       "2  https://a0.muscache.com/im/users/83531/profile...             Aluche   \n",
       "3  https://a0.muscache.com/im/users/1713427/profi...           Justicia   \n",
       "4  https://a0.muscache.com/im/pictures/user/52bdf...            Legazpi   \n",
       "\n",
       "   host_listings_count  host_total_listings_count  host_verifications  \\\n",
       "0                  1.0                        1.0  ['email', 'phone']   \n",
       "1                  5.0                        5.0  ['email', 'phone']   \n",
       "2                  2.0                        2.0  ['email', 'phone']   \n",
       "3                  1.0                        1.0  ['email', 'phone']   \n",
       "4                  9.0                        9.0  ['email', 'phone']   \n",
       "\n",
       "  host_has_profile_pic host_identity_verified  \\\n",
       "0                    t                      t   \n",
       "1                    t                      t   \n",
       "2                    t                      t   \n",
       "3                    t                      t   \n",
       "4                    t                      t   \n",
       "\n",
       "                        neighbourhood neighbourhood_cleansed  \\\n",
       "0                                 NaN         Hispanoamérica   \n",
       "1                       Madrid, Spain               Delicias   \n",
       "2                       Madrid, Spain               Cármenes   \n",
       "3                                 NaN               Justicia   \n",
       "4  Madrid, Comunidad de Madrid, Spain                Legazpi   \n",
       "\n",
       "  neighbourhood_group_cleansed  latitude  longitude  \\\n",
       "0                    Chamartín  40.45724   -3.67688   \n",
       "1                   Arganzuela  40.39516   -3.69309   \n",
       "2                       Latina  40.40381   -3.74130   \n",
       "3                       Centro  40.42242   -3.69562   \n",
       "4                   Arganzuela  40.38840   -3.69511   \n",
       "\n",
       "                 property_type        room_type  accommodates  bathrooms  \\\n",
       "0  Private room in rental unit     Private room             2        NaN   \n",
       "1           Entire rental unit  Entire home/apt             6        NaN   \n",
       "2  Private room in rental unit     Private room             1        NaN   \n",
       "3           Entire rental unit  Entire home/apt             5        NaN   \n",
       "4           Entire rental unit  Entire home/apt             6        NaN   \n",
       "\n",
       "   bathrooms_text  bedrooms  beds  \\\n",
       "0  1 private bath       1.0   1.0   \n",
       "1         2 baths       4.0   4.0   \n",
       "2          1 bath       1.0   1.0   \n",
       "3          1 bath       2.0   3.0   \n",
       "4         2 baths       3.0   3.0   \n",
       "\n",
       "                                           amenities    price  minimum_nights  \\\n",
       "0  [\"Long term stays allowed\", \"Iron\", \"Heating\",...   $69.00               3   \n",
       "1  [\"Long term stays allowed\", \"Microwave\", \"Stov...  $106.00               3   \n",
       "2  [\"Long term stays allowed\", \"Microwave\", \"Air ...   $31.00               4   \n",
       "3  [\"Long term stays allowed\", \"Microwave\", \"Stov...   $65.00               5   \n",
       "4  [\"Long term stays allowed\", \"Luggage dropoff a...   $46.00              15   \n",
       "\n",
       "   maximum_nights  minimum_minimum_nights  maximum_minimum_nights  \\\n",
       "0            1125                     1.0                    21.0   \n",
       "1              35                     1.0                     3.0   \n",
       "2              40                     4.0                     4.0   \n",
       "3            1125                     5.0                     5.0   \n",
       "4             730                    15.0                    15.0   \n",
       "\n",
       "   minimum_maximum_nights  maximum_maximum_nights  minimum_nights_avg_ntm  \\\n",
       "0                     8.0                  1125.0                     6.0   \n",
       "1                  1125.0                  1125.0                     1.7   \n",
       "2                    40.0                    40.0                     4.0   \n",
       "3                  1125.0                  1125.0                     5.0   \n",
       "4                   730.0                   730.0                    15.0   \n",
       "\n",
       "   maximum_nights_avg_ntm  calendar_updated has_availability  availability_30  \\\n",
       "0                  1122.5               NaN                t                5   \n",
       "1                  1125.0               NaN                t                4   \n",
       "2                    40.0               NaN                t                0   \n",
       "3                  1125.0               NaN                t                0   \n",
       "4                   730.0               NaN                t                8   \n",
       "\n",
       "   availability_60  availability_90  availability_365 calendar_last_scraped  \\\n",
       "0               12               22                92            2022-06-07   \n",
       "1               18               41                41            2022-06-07   \n",
       "2                5               35               310            2022-06-07   \n",
       "3                7                7                 7            2022-06-07   \n",
       "4               33               63               319            2022-06-07   \n",
       "\n",
       "   number_of_reviews  number_of_reviews_ltm  number_of_reviews_l30d  \\\n",
       "0                 95                     17                       3   \n",
       "1                 82                     25                       4   \n",
       "2                 33                      0                       0   \n",
       "3                 46                      2                       0   \n",
       "4                  1                      1                       0   \n",
       "\n",
       "  first_review last_review  review_scores_rating  review_scores_accuracy  \\\n",
       "0   2010-03-14  2022-06-07                  4.86                    4.90   \n",
       "1   2017-12-10  2022-05-30                  4.82                    4.82   \n",
       "2   2014-10-10  2018-07-15                  4.58                    4.72   \n",
       "3   2012-04-01  2021-08-29                  4.62                    4.75   \n",
       "4   2022-03-01  2022-03-01                  5.00                    5.00   \n",
       "\n",
       "   review_scores_cleanliness  review_scores_checkin  \\\n",
       "0                       4.81                   4.74   \n",
       "1                       4.62                   4.80   \n",
       "2                       4.56                   4.75   \n",
       "3                       4.25                   4.86   \n",
       "4                       4.00                   5.00   \n",
       "\n",
       "   review_scores_communication  review_scores_location  review_scores_value  \\\n",
       "0                         4.84                    4.82                 4.84   \n",
       "1                         4.94                    4.80                 4.76   \n",
       "2                         4.82                    4.21                 4.67   \n",
       "3                         4.77                    4.95                 4.60   \n",
       "4                         5.00                    4.00                 5.00   \n",
       "\n",
       "  license instant_bookable  calculated_host_listings_count  \\\n",
       "0     NaN                f                               1   \n",
       "1     NaN                f                               5   \n",
       "2     NaN                f                               2   \n",
       "3     NaN                f                               1   \n",
       "4     NaN                f                               7   \n",
       "\n",
       "   calculated_host_listings_count_entire_homes  \\\n",
       "0                                            0   \n",
       "1                                            1   \n",
       "2                                            0   \n",
       "3                                            1   \n",
       "4                                            7   \n",
       "\n",
       "   calculated_host_listings_count_private_rooms  \\\n",
       "0                                             1   \n",
       "1                                             4   \n",
       "2                                             2   \n",
       "3                                             0   \n",
       "4                                             0   \n",
       "\n",
       "   calculated_host_listings_count_shared_rooms  reviews_per_month  \n",
       "0                                            0               0.64  \n",
       "1                                            0               1.50  \n",
       "2                                            0               0.35  \n",
       "3                                            0               0.37  \n",
       "4                                            0               0.30  "
      ]
     },
     "execution_count": 4,
     "metadata": {},
     "output_type": "execute_result"
    }
   ],
   "source": [
    "listing_df.head()"
   ]
  },
  {
   "cell_type": "code",
   "execution_count": 5,
   "id": "14dd3e16",
   "metadata": {},
   "outputs": [
    {
     "data": {
      "text/html": [
       "<div>\n",
       "<style scoped>\n",
       "    .dataframe tbody tr th:only-of-type {\n",
       "        vertical-align: middle;\n",
       "    }\n",
       "\n",
       "    .dataframe tbody tr th {\n",
       "        vertical-align: top;\n",
       "    }\n",
       "\n",
       "    .dataframe thead th {\n",
       "        text-align: right;\n",
       "    }\n",
       "</style>\n",
       "<table border=\"1\" class=\"dataframe\">\n",
       "  <thead>\n",
       "    <tr style=\"text-align: right;\">\n",
       "      <th></th>\n",
       "      <th>listing_id</th>\n",
       "      <th>date</th>\n",
       "      <th>available</th>\n",
       "      <th>price</th>\n",
       "      <th>adjusted_price</th>\n",
       "      <th>minimum_nights</th>\n",
       "      <th>maximum_nights</th>\n",
       "    </tr>\n",
       "  </thead>\n",
       "  <tbody>\n",
       "    <tr>\n",
       "      <th>0</th>\n",
       "      <td>6369</td>\n",
       "      <td>2022-06-07</td>\n",
       "      <td>f</td>\n",
       "      <td>$71.00</td>\n",
       "      <td>$71.00</td>\n",
       "      <td>3.0</td>\n",
       "      <td>1125.0</td>\n",
       "    </tr>\n",
       "    <tr>\n",
       "      <th>1</th>\n",
       "      <td>6369</td>\n",
       "      <td>2022-06-08</td>\n",
       "      <td>f</td>\n",
       "      <td>$71.00</td>\n",
       "      <td>$71.00</td>\n",
       "      <td>3.0</td>\n",
       "      <td>1125.0</td>\n",
       "    </tr>\n",
       "    <tr>\n",
       "      <th>2</th>\n",
       "      <td>6369</td>\n",
       "      <td>2022-06-09</td>\n",
       "      <td>f</td>\n",
       "      <td>$60.00</td>\n",
       "      <td>$60.00</td>\n",
       "      <td>3.0</td>\n",
       "      <td>8.0</td>\n",
       "    </tr>\n",
       "    <tr>\n",
       "      <th>3</th>\n",
       "      <td>6369</td>\n",
       "      <td>2022-06-10</td>\n",
       "      <td>f</td>\n",
       "      <td>$71.00</td>\n",
       "      <td>$71.00</td>\n",
       "      <td>3.0</td>\n",
       "      <td>1125.0</td>\n",
       "    </tr>\n",
       "    <tr>\n",
       "      <th>4</th>\n",
       "      <td>6369</td>\n",
       "      <td>2022-06-11</td>\n",
       "      <td>f</td>\n",
       "      <td>$71.00</td>\n",
       "      <td>$71.00</td>\n",
       "      <td>3.0</td>\n",
       "      <td>1125.0</td>\n",
       "    </tr>\n",
       "  </tbody>\n",
       "</table>\n",
       "</div>"
      ],
      "text/plain": [
       "   listing_id        date available   price adjusted_price  minimum_nights  \\\n",
       "0        6369  2022-06-07         f  $71.00         $71.00             3.0   \n",
       "1        6369  2022-06-08         f  $71.00         $71.00             3.0   \n",
       "2        6369  2022-06-09         f  $60.00         $60.00             3.0   \n",
       "3        6369  2022-06-10         f  $71.00         $71.00             3.0   \n",
       "4        6369  2022-06-11         f  $71.00         $71.00             3.0   \n",
       "\n",
       "   maximum_nights  \n",
       "0          1125.0  \n",
       "1          1125.0  \n",
       "2             8.0  \n",
       "3          1125.0  \n",
       "4          1125.0  "
      ]
     },
     "execution_count": 5,
     "metadata": {},
     "output_type": "execute_result"
    }
   ],
   "source": [
    "calendar_df.head()"
   ]
  },
  {
   "cell_type": "code",
   "execution_count": 6,
   "id": "5ff3bb20",
   "metadata": {},
   "outputs": [
    {
     "name": "stdout",
     "output_type": "stream",
     "text": [
      "(19446, 74)\n",
      "(7097429, 7)\n"
     ]
    }
   ],
   "source": [
    "print(listing_df.shape)\n",
    "print(calendar_df.shape)"
   ]
  },
  {
   "cell_type": "code",
   "execution_count": 7,
   "id": "f22affc9",
   "metadata": {},
   "outputs": [
    {
     "name": "stdout",
     "output_type": "stream",
     "text": [
      "Centro                   8584\n",
      "Salamanca                1330\n",
      "Chamberí                 1210\n",
      "Arganzuela               1032\n",
      "Tetuán                    899\n",
      "Carabanchel               685\n",
      "Retiro                    683\n",
      "Moncloa - Aravaca         637\n",
      "Ciudad Lineal             577\n",
      "Chamartín                 541\n",
      "Latina                    538\n",
      "Puente de Vallecas        520\n",
      "San Blas - Canillejas     443\n",
      "Hortaleza                 385\n",
      "Fuencarral - El Pardo     349\n",
      "Usera                     328\n",
      "Villaverde                214\n",
      "Barajas                   152\n",
      "Vicálvaro                 128\n",
      "Moratalaz                 125\n",
      "Villa de Vallecas          86\n",
      "Name: neighbourhood_group_cleansed, dtype: int64\n"
     ]
    }
   ],
   "source": [
    "#How many neighbourhood groups has at least one accomodation in Madrid\n",
    "neighbourhood_group_vals = listing_df.neighbourhood_group_cleansed.value_counts()\n",
    "print(neighbourhood_group_vals)"
   ]
  },
  {
   "cell_type": "code",
   "execution_count": 8,
   "id": "dc0054e7",
   "metadata": {},
   "outputs": [
    {
     "name": "stdout",
     "output_type": "stream",
     "text": [
      "Entire home/apt    12034\n",
      "Private room        7037\n",
      "Shared room          239\n",
      "Hotel room           136\n",
      "Name: room_type, dtype: int64\n"
     ]
    }
   ],
   "source": [
    "# What are the different options of room type \n",
    "room_type_vals = listing_df.room_type.value_counts()\n",
    "print(room_type_vals)"
   ]
  },
  {
   "cell_type": "code",
   "execution_count": 9,
   "id": "96dcf637",
   "metadata": {
    "scrolled": false
   },
   "outputs": [
    {
     "name": "stderr",
     "output_type": "stream",
     "text": [
      "C:\\Users\\Carbonero\\Documents\\Data Science\\Curso Udacity\\Project_merged\\carbo.py:128: FutureWarning: Indexing with a float is deprecated, and will raise an IndexError in pandas 2.0. You can manually convert to an integer key instead.\n",
      "  columnas.append(df.columns[vector_indices[i]])\n"
     ]
    },
    {
     "data": {
      "text/plain": [
       "<Figure size 432x288 with 0 Axes>"
      ]
     },
     "metadata": {},
     "output_type": "display_data"
    },
    {
     "data": {
      "image/png": "[encoded data removed]",
      "text/plain": [
       "<Figure size 864x864 with 1 Axes>"
      ]
     },
     "metadata": {
      "needs_background": "light"
     },
     "output_type": "display_data"
    }
   ],
   "source": [
    "#How many Nan values do we have in our features of listing_df\n",
    "a = get_null_info(listing_df)"
   ]
  },
  {
   "cell_type": "code",
   "execution_count": 10,
   "id": "f7dedfdd",
   "metadata": {},
   "outputs": [
    {
     "data": {
      "text/plain": [
       "listing_id        0\n",
       "date              0\n",
       "available         0\n",
       "price             0\n",
       "adjusted_price    0\n",
       "minimum_nights    6\n",
       "maximum_nights    6\n",
       "dtype: int64"
      ]
     },
     "execution_count": 10,
     "metadata": {},
     "output_type": "execute_result"
    }
   ],
   "source": [
    "#How many Nan features do we have in our calendar_df \n",
    "calendar_df.isnull().sum()"
   ]
  },
  {
   "cell_type": "markdown",
   "id": "c7c5f143",
   "metadata": {},
   "source": [
    "## 3.- *Data Preparation*"
   ]
  },
  {
   "cell_type": "code",
   "execution_count": 11,
   "id": "730c356c",
   "metadata": {},
   "outputs": [],
   "source": [
    "columns =  ['picture_url',  'listing_url', 'host_url',\n",
    "       'host_thumbnail_url', 'host_picture_url','neighbourhood',\n",
    "        'calendar_last_scraped','scrape_id','last_scraped','host_neighbourhood','neighborhood_overview',\n",
    "         'host_listings_count']\n",
    "listing_df.drop(columns, axis=1, inplace=True)"
   ]
  },
  {
   "cell_type": "markdown",
   "id": "601adecf",
   "metadata": {},
   "source": [
    "Now, lets fix some data type error and nomenclature"
   ]
  },
  {
   "cell_type": "code",
   "execution_count": 12,
   "id": "4a47ac6f",
   "metadata": {},
   "outputs": [],
   "source": [
    "calendar_aux = calendar_df\n",
    "calendar_aux['price'] = calendar_aux['price'].replace('[\\$,]', '', regex=True).astype(float) \n",
    "calendar_aux['month'] = pd.DatetimeIndex(calendar_aux['date']).month\n",
    "\n",
    "calendar_aux['available']= calendar_aux['available'].replace(['f'],0)\n",
    "calendar_aux['available']= calendar_aux['available'].replace(['t'],1)"
   ]
  },
  {
   "cell_type": "code",
   "execution_count": 13,
   "id": "c6e4aeb0",
   "metadata": {},
   "outputs": [],
   "source": [
    "columns = ['host_response_rate', 'host_acceptance_rate']\n",
    "for columns in columns:\n",
    "    listing_df[columns] = listing_df[columns].str.extract(r'(\\d+)')\n",
    "    listing_df[columns] = listing_df[columns].astype('float').astype('Int64')\n"
   ]
  },
  {
   "cell_type": "code",
   "execution_count": 14,
   "id": "c329a3eb",
   "metadata": {},
   "outputs": [],
   "source": [
    "#Let's remove the dollar sign in front of the price\n",
    "listing_df['price'] = listing_df.price.replace({'[\\$,]':''}, regex=True).astype(float)"
   ]
  },
  {
   "cell_type": "code",
   "execution_count": 15,
   "id": "ef73f972",
   "metadata": {},
   "outputs": [],
   "source": [
    "#And now change the t and f to 1 and 0 to treat is like a numeric variable\n",
    "listing_df['host_is_superhost'] = listing_df['host_is_superhost'].replace(['t','f'],[1,0])\n",
    "listing_df['instant_bookable'] = listing_df['instant_bookable'].replace(['t','f'],[1,0])\n",
    "\n",
    "listing_df['host_is_superhost'] = pd.to_numeric(listing_df['host_is_superhost'])\n",
    "listing_df['instant_bookable'] = pd.to_numeric(listing_df['instant_bookable'])\n",
    "\n",
    "\n"
   ]
  },
  {
   "cell_type": "markdown",
   "id": "c1788246",
   "metadata": {},
   "source": [
    "Drop the columns with more of the 50% of Nan values"
   ]
  },
  {
   "cell_type": "code",
   "execution_count": 16,
   "id": "d22fa454",
   "metadata": {},
   "outputs": [],
   "source": [
    "listing_df = listing_df.dropna(thresh=listing_df.shape[0]*0.6,how='all',axis=1)"
   ]
  },
  {
   "cell_type": "markdown",
   "id": "ee021151",
   "metadata": {},
   "source": [
    "We will impute missing values for the deployment of the linear modelo, for now, lets work with this values"
   ]
  },
  {
   "cell_type": "markdown",
   "id": "5466186f",
   "metadata": {},
   "source": [
    "### Q1.- Is the quantity of accomation offer equal all arround Madrid?"
   ]
  },
  {
   "cell_type": "code",
   "execution_count": 17,
   "id": "c07d7c75",
   "metadata": {},
   "outputs": [],
   "source": [
    "data = listing_df \n",
    "data = data.groupby('neighbourhood_group_cleansed')['id'].count().reset_index()\n",
    "total = data['id'].sum()\n",
    "data['percent'] = (data['id']/total * 100).round(2)\n",
    "data = data.sort_values(by=['percent'],ascending=False)"
   ]
  },
  {
   "cell_type": "code",
   "execution_count": 18,
   "id": "739059f7",
   "metadata": {},
   "outputs": [
    {
     "data": {
      "text/plain": [
       "Text(0, 0.5, 'Percent')"
      ]
     },
     "execution_count": 18,
     "metadata": {},
     "output_type": "execute_result"
    },
    {
     "data": {
      "text/plain": [
       "<Figure size 432x288 with 0 Axes>"
      ]
     },
     "metadata": {},
     "output_type": "display_data"
    },
    {
     "data": {
      "image/png": "[encoded data removed]",
      "text/plain": [
       "<Figure size 864x864 with 1 Axes>"
      ]
     },
     "metadata": {
      "needs_background": "light"
     },
     "output_type": "display_data"
    }
   ],
   "source": [
    "neighborhood_colors = create_colors(250/255,63/255,63/255,len(data),0.08)\n",
    "\n",
    "\n",
    "fig = plt.figure();  # an empty figure with no Axes\n",
    "fig, ax = plt.subplots();  # a figure with a single Axes\n",
    "fig.set_figheight(12);\n",
    "fig.set_figwidth(12);\n",
    "    \n",
    "plt.barh(y = data['neighbourhood_group_cleansed'],  width = data['percent'], height = 1,color=neighborhood_colors,edgecolor = 'black');\n",
    "ax.set_xlabel('Neighbourhood Group', fontsize=15)\n",
    "ax.set_ylabel('Percent', fontsize=15)\n",
    "\n",
    "\n"
   ]
  },
  {
   "cell_type": "markdown",
   "id": "30dc1ec6",
   "metadata": {},
   "source": [
    "**Answer 1**:<br>\n",
    "Each bar in the plot represents a neighborhood group in Madrid. The plot shows the percentage of accommodations in that neighborhood. For example, more than the 40% of the accommodations available in Airbnb Madrid are located in the neighborhood \"Centro\", which in English means the center of the city. So the answer to the questions is no. But, we have 2  features. First, we have a neighborhood group, and then we have a neighborhood. A neighborhood group is formed by some neighborhoods. This is important for the next question.\n"
   ]
  },
  {
   "cell_type": "markdown",
   "id": "5ba59452",
   "metadata": {},
   "source": [
    "### Q2.- Does the feature neighbourhood group represent the quantity of offer of each of it's neighbourhoods?"
   ]
  },
  {
   "cell_type": "markdown",
   "id": "ab876cbe",
   "metadata": {},
   "source": [
    "We have to plot the same graphic of above, but this time for each neighbourhood. Each neighbourhood bar color is realted to the color of the neighbourhood group of the barh plot above. For the answer of this questions to be true, we should get the same rainbow pattern, if not, the answer will be no."
   ]
  },
  {
   "cell_type": "code",
   "execution_count": 19,
   "id": "e77dda23",
   "metadata": {},
   "outputs": [],
   "source": [
    "df1 = pd.DataFrame()\n",
    "df1['neighbourhood_group'] = data['neighbourhood_group_cleansed']\n",
    "df1['R'] = neighborhood_colors[:,0]\n",
    "df1['G'] = neighborhood_colors[:,1]\n",
    "df1['B'] = neighborhood_colors[:,2]\n",
    "\n",
    "data2 = listing_df \n",
    "data2 = data2.groupby('neighbourhood_cleansed')['neighbourhood_group_cleansed'].count().reset_index()\n",
    "total = data2['neighbourhood_group_cleansed'].sum()\n",
    "data2['percent'] = (data2['neighbourhood_group_cleansed']/total * 100).round(2)\n",
    "\n",
    "\n",
    "data2 = data2.sort_values(by=['percent'],ascending=False)\n",
    "\n",
    "aux_3 =data2\n",
    "aux_3 = aux_3.drop(columns = ['neighbourhood_group_cleansed'])\n",
    "aux_3 = aux_3.sort_values(by=['neighbourhood_cleansed'])\n",
    "\n",
    "data3 = listing_df \n",
    "data3 = data3.groupby('neighbourhood_cleansed')['neighbourhood_group_cleansed'].first().reset_index()\n",
    "data3.info\n",
    "data3['percent'] = aux_3['percent']\n",
    "data3 = data3.sort_values(by=['percent'],ascending=False)"
   ]
  },
  {
   "cell_type": "code",
   "execution_count": 20,
   "id": "782c6107",
   "metadata": {},
   "outputs": [],
   "source": [
    "colores_2 = np.zeros((len(data3),3))\n",
    "j = 0\n",
    "cuenta = 0\n",
    "for i in range(len(data3)):\n",
    "    neighborhood_data3 = data3.iloc[i,1]\n",
    "    for j in range(len(df1)):\n",
    "        neighborhood_df1 = df1.iloc[j,0]\n",
    "        if neighborhood_df1 == neighborhood_data3:\n",
    "            colores_2[i,:] = [df1.iloc[j,1],df1.iloc[j,2],df1.iloc[j,3]]\n",
    "\n",
    "        "
   ]
  },
  {
   "cell_type": "code",
   "execution_count": 21,
   "id": "f5ed1f2b",
   "metadata": {
    "scrolled": false
   },
   "outputs": [
    {
     "data": {
      "text/plain": [
       "Text(0, 0.5, 'Percent')"
      ]
     },
     "execution_count": 21,
     "metadata": {},
     "output_type": "execute_result"
    },
    {
     "data": {
      "text/plain": [
       "<Figure size 432x288 with 0 Axes>"
      ]
     },
     "metadata": {},
     "output_type": "display_data"
    },
    {
     "data": {
      "image/png": "[encoded data removed]",
      "text/plain": [
       "<Figure size 864x1800 with 1 Axes>"
      ]
     },
     "metadata": {
      "needs_background": "light"
     },
     "output_type": "display_data"
    }
   ],
   "source": [
    "fig = plt.figure();  # an empty figure with no Axes\n",
    "fig, ax = plt.subplots();  # a figure with a single Axes\n",
    "fig.set_figheight(25);\n",
    "fig.set_figwidth(12);\n",
    "    \n",
    "plt.barh(y= data2['neighbourhood_cleansed'],  width = data2['percent'], height = 1,color=colores_2,align='center',edgecolor = 'black');\n",
    "ax.set_xlabel('Neighbourhood', fontsize=15)\n",
    "ax.set_ylabel('Percent', fontsize=15)"
   ]
  },
  {
   "cell_type": "markdown",
   "id": "49e97067",
   "metadata": {},
   "source": [
    "**Answer 2**:<br>\n",
    "Since we don't get the same rainbow pattern, the answer is no. However, each neighbourhood that belongs to the center zone has a lot to offer. So this answer will be true for the center zone only. The rest is divided into the rest of the neighbourhoods.\n"
   ]
  },
  {
   "cell_type": "markdown",
   "id": "b396ad5f",
   "metadata": {},
   "source": [
    "### Q3.- Are the prices equal all over Madrid?"
   ]
  },
  {
   "cell_type": "code",
   "execution_count": 22,
   "id": "9f9ca3ce",
   "metadata": {},
   "outputs": [
    {
     "data": {
      "text/html": [
       "<div>\n",
       "<style scoped>\n",
       "    .dataframe tbody tr th:only-of-type {\n",
       "        vertical-align: middle;\n",
       "    }\n",
       "\n",
       "    .dataframe tbody tr th {\n",
       "        vertical-align: top;\n",
       "    }\n",
       "\n",
       "    .dataframe thead th {\n",
       "        text-align: right;\n",
       "    }\n",
       "</style>\n",
       "<table border=\"1\" class=\"dataframe\">\n",
       "  <thead>\n",
       "    <tr style=\"text-align: right;\">\n",
       "      <th></th>\n",
       "      <th>neighbourhood_group_cleansed</th>\n",
       "      <th>price</th>\n",
       "    </tr>\n",
       "  </thead>\n",
       "  <tbody>\n",
       "    <tr>\n",
       "      <th>15</th>\n",
       "      <td>San Blas - Canillejas</td>\n",
       "      <td>332.460497</td>\n",
       "    </tr>\n",
       "    <tr>\n",
       "      <th>18</th>\n",
       "      <td>Vicálvaro</td>\n",
       "      <td>219.648438</td>\n",
       "    </tr>\n",
       "    <tr>\n",
       "      <th>14</th>\n",
       "      <td>Salamanca</td>\n",
       "      <td>168.525564</td>\n",
       "    </tr>\n",
       "    <tr>\n",
       "      <th>8</th>\n",
       "      <td>Hortaleza</td>\n",
       "      <td>139.987013</td>\n",
       "    </tr>\n",
       "    <tr>\n",
       "      <th>10</th>\n",
       "      <td>Moncloa - Aravaca</td>\n",
       "      <td>137.935636</td>\n",
       "    </tr>\n",
       "  </tbody>\n",
       "</table>\n",
       "</div>"
      ],
      "text/plain": [
       "   neighbourhood_group_cleansed       price\n",
       "15        San Blas - Canillejas  332.460497\n",
       "18                    Vicálvaro  219.648438\n",
       "14                    Salamanca  168.525564\n",
       "8                     Hortaleza  139.987013\n",
       "10            Moncloa - Aravaca  137.935636"
      ]
     },
     "execution_count": 22,
     "metadata": {},
     "output_type": "execute_result"
    }
   ],
   "source": [
    "q2 = listing_df \n",
    "q2 = q2.groupby('neighbourhood_group_cleansed')['price'].mean().reset_index()\n",
    "q2 = q2.sort_values(by=['price'],ascending=False)\n",
    "q2.head()"
   ]
  },
  {
   "cell_type": "code",
   "execution_count": 23,
   "id": "58768a25",
   "metadata": {},
   "outputs": [],
   "source": [
    "colores_3 = np.zeros((len(q2),3))\n",
    "j = 0\n",
    "\n",
    "for i in range(len(q2)):\n",
    "    neighborhood_dataq2 = q2.iloc[i,0]\n",
    "    for j in range(len(df1)):\n",
    "        neighborhood_df1 = df1.iloc[j,0]\n",
    "        if neighborhood_df1 == neighborhood_dataq2:\n",
    "            colores_3[i,:] = [df1.iloc[j,1],df1.iloc[j,2],df1.iloc[j,3]]\n",
    "\n",
    "        \n"
   ]
  },
  {
   "cell_type": "code",
   "execution_count": 24,
   "id": "0c08dbdb",
   "metadata": {},
   "outputs": [
    {
     "data": {
      "text/plain": [
       "Text(0, 0.5, 'Neighbourhood Group')"
      ]
     },
     "execution_count": 24,
     "metadata": {},
     "output_type": "execute_result"
    },
    {
     "data": {
      "text/plain": [
       "<Figure size 432x288 with 0 Axes>"
      ]
     },
     "metadata": {},
     "output_type": "display_data"
    },
    {
     "data": {
      "image/png": "[encoded data removed]",
      "text/plain": [
       "<Figure size 864x864 with 1 Axes>"
      ]
     },
     "metadata": {
      "needs_background": "light"
     },
     "output_type": "display_data"
    }
   ],
   "source": [
    "fig = plt.figure();  # an empty figure with no Axes\n",
    "fig, ax = plt.subplots();  # a figure with a single Axes\n",
    "fig.set_figheight(12);\n",
    "fig.set_figwidth(12);\n",
    "    \n",
    "plt.barh(y = q2['neighbourhood_group_cleansed'],  width = q2['price'], height = 1,color=colores_3,edgecolor = 'black');\n",
    "ax.set_xlabel('Mean Price', fontsize=15)\n",
    "ax.set_ylabel('Neighbourhood Group', fontsize=15)\n"
   ]
  },
  {
   "cell_type": "code",
   "execution_count": 25,
   "id": "ccf05001",
   "metadata": {},
   "outputs": [
    {
     "data": {
      "text/plain": [
       "<AxesSubplot:xlabel='price', ylabel='neighbourhood_group_cleansed'>"
      ]
     },
     "execution_count": 25,
     "metadata": {},
     "output_type": "execute_result"
    },
    {
     "data": {
      "image/png": "[encoded data removed]",
      "text/plain": [
       "<Figure size 432x288 with 1 Axes>"
      ]
     },
     "metadata": {
      "needs_background": "light"
     },
     "output_type": "display_data"
    }
   ],
   "source": [
    "sns.boxplot(y='neighbourhood_group_cleansed', x='price', data=listing_df)\n",
    "# Theres a lot of outliers..."
   ]
  },
  {
   "cell_type": "code",
   "execution_count": 26,
   "id": "53e84579",
   "metadata": {},
   "outputs": [],
   "source": [
    "q2_2 = listing_df[listing_df['price'] <= 600].sort_values('neighbourhood_group_cleansed')"
   ]
  },
  {
   "cell_type": "code",
   "execution_count": 27,
   "id": "06b452d0",
   "metadata": {
    "scrolled": false
   },
   "outputs": [
    {
     "data": {
      "text/plain": [
       "<Figure size 432x288 with 0 Axes>"
      ]
     },
     "metadata": {},
     "output_type": "display_data"
    },
    {
     "data": {
      "image/png": "[encoded data removed]",
      "text/plain": [
       "<Figure size 864x864 with 1 Axes>"
      ]
     },
     "metadata": {
      "needs_background": "light"
     },
     "output_type": "display_data"
    }
   ],
   "source": [
    "fig = plt.figure();  # an empty figure with no Axes\n",
    "fig, ax = plt.subplots();  # a figure with a single Axes\n",
    "fig.set_figheight(12);\n",
    "fig.set_figwidth(12);\n",
    "ax =sns.boxplot(y='neighbourhood_group_cleansed', x='price', data=q2_2)\n",
    "ax.set_xlabel('Price', fontsize=20)\n",
    "ax.set_ylabel('Neighborhoods', fontsize=20)\n",
    "ax.grid(axis='x', linewidth=0.45)"
   ]
  },
  {
   "cell_type": "markdown",
   "id": "8ac00850",
   "metadata": {},
   "source": [
    "**Answer 3**:<br>\n",
    "\n",
    "The prices are not equal all around Madrid. Based on the first bar plot, we can see that the mean price of the accommodation depends a lot on the neighborhood group. We can also see, thanks to the box plot, that the range of prices is different for different neighbourhood groups in Madrid.\n",
    "\n"
   ]
  },
  {
   "cell_type": "markdown",
   "id": "04410c30",
   "metadata": {},
   "source": [
    "### Q4.- How are the prices and availability rate in Madrid over the months?"
   ]
  },
  {
   "cell_type": "code",
   "execution_count": 28,
   "id": "86b457ee",
   "metadata": {},
   "outputs": [],
   "source": [
    "calendar_aux = calendar_df\n",
    "data_calendar = calendar_aux.groupby('month')['available'].mean().reset_index()\n",
    "data_calendar2 = calendar_aux.groupby('month')['price'].mean().reset_index()"
   ]
  },
  {
   "cell_type": "code",
   "execution_count": 29,
   "id": "1e55fbb4",
   "metadata": {},
   "outputs": [
    {
     "data": {
      "text/plain": [
       "<Figure size 432x288 with 0 Axes>"
      ]
     },
     "metadata": {},
     "output_type": "display_data"
    },
    {
     "data": {
      "image/png": "[encoded data removed]",
      "text/plain": [
       "<Figure size 1080x432 with 2 Axes>"
      ]
     },
     "metadata": {
      "needs_background": "light"
     },
     "output_type": "display_data"
    }
   ],
   "source": [
    "fig = plt.figure();  # an empty figure with no Axes\n",
    "fig, ax = plt.subplots(1,2);  # a figure with a single Axes\n",
    "fig.set_figheight(6);\n",
    "fig.set_figwidth(15);\n",
    "\n",
    "fig.suptitle('Price and availability rate of Airbnb accommodations in Madrid', fontsize=16)\n",
    "\n",
    "ax[0].plot(data_calendar2['month'],data_calendar2['price'],linewidth=3, color=(0/255,62/255, 97/255),marker='s')\n",
    "ax[0].set_facecolor((27/255,151/255, 223/255))\n",
    "ax[0].set_xlabel('Month', fontsize=15)\n",
    "ax[0].set_ylabel('Price', fontsize=15)\n",
    "ax[0].grid(axis='both', linewidth=0.45)\n",
    "\n",
    "ax[1].plot(data_calendar['month'],data_calendar['available'],linewidth=3, color=(0/255,62/255, 97/255),marker='s')\n",
    "ax[1].set_facecolor((27/255,151/255, 223/255))\n",
    "ax[1].set_xlabel('Month', fontsize=15)\n",
    "ax[1].set_ylabel('Availability rate', fontsize=15)\n",
    "ax[1].grid(axis='both', linewidth=0.45)\n",
    "\n"
   ]
  },
  {
   "cell_type": "markdown",
   "id": "ce0a556e",
   "metadata": {},
   "source": [
    "**Answer 4**:<br>\n",
    "\n",
    "We can see that the prices and availability rate seem to be dependent on the month. People seem to visit Madrid more in the winter and spring months. This can be due to the hot weather Madrid experiences in the summer months. The month with the highest availability rate is also the cheapest. This can be caused by the offer and demand effect.\n",
    "\n"
   ]
  },
  {
   "cell_type": "markdown",
   "id": "04efdc69",
   "metadata": {},
   "source": [
    "### Q5.- How well can we predict the price based on the rest of the feautures??"
   ]
  },
  {
   "cell_type": "markdown",
   "id": "c805afae",
   "metadata": {},
   "source": [
    "Let's create a model that, depending in other features, estimate the price of the accomodation. Then, we evaluate it and see if it's possoble to predict the price of an accomodation based on other features"
   ]
  },
  {
   "cell_type": "markdown",
   "id": "788c24ae",
   "metadata": {},
   "source": [
    "## 4.- *Data Modelling*"
   ]
  },
  {
   "cell_type": "code",
   "execution_count": 30,
   "id": "bde85cb7",
   "metadata": {},
   "outputs": [],
   "source": [
    "# First, let's drop all the rows with no price info, since it's what we are trying to predict\n",
    "listing_df = listing_df.dropna(axis = 0, subset = ['price'],how = 'any')"
   ]
  },
  {
   "cell_type": "code",
   "execution_count": 31,
   "id": "456d2e97",
   "metadata": {},
   "outputs": [
    {
     "data": {
      "text/plain": [
       "count    19446.000000\n",
       "mean       135.447856\n",
       "std        313.584373\n",
       "min          0.000000\n",
       "25%         45.000000\n",
       "50%         82.000000\n",
       "75%        138.000000\n",
       "max      15960.000000\n",
       "Name: price, dtype: float64"
      ]
     },
     "execution_count": 31,
     "metadata": {},
     "output_type": "execute_result"
    }
   ],
   "source": [
    "# Get some info about the distribution of the prices\n",
    "price_description = listing_df['price']\n",
    "price_description.describe()"
   ]
  },
  {
   "cell_type": "code",
   "execution_count": 32,
   "id": "ce2f7bb0",
   "metadata": {
    "scrolled": false
   },
   "outputs": [
    {
     "data": {
      "text/plain": [
       "<AxesSubplot:>"
      ]
     },
     "execution_count": 32,
     "metadata": {},
     "output_type": "execute_result"
    },
    {
     "data": {
      "text/plain": [
       "<Figure size 432x288 with 0 Axes>"
      ]
     },
     "metadata": {},
     "output_type": "display_data"
    },
    {
     "data": {
      "image/png": "[encoded data removed]",
      "text/plain": [
       "<Figure size 864x864 with 1 Axes>"
      ]
     },
     "metadata": {
      "needs_background": "light"
     },
     "output_type": "display_data"
    }
   ],
   "source": [
    "# Here, we can clearly see that there are lot's of outliers...\n",
    "fig = plt.figure()  # an empty figure with no Axes\n",
    "fig, ax = plt.subplots();  # a figure with a single Axes\n",
    "fig.set_figheight(12)\n",
    "fig.set_figwidth(12)\n",
    "listing_df.boxplot(column= ['price'])\n",
    "    \n"
   ]
  },
  {
   "cell_type": "code",
   "execution_count": 33,
   "id": "27ed23fb",
   "metadata": {},
   "outputs": [],
   "source": [
    "# We create the model for the \"normal\" situations, if we consider all the outliers, the model will be imprecise\n",
    "listing_df = listing_df[listing_df['price'] < 390]\n"
   ]
  },
  {
   "cell_type": "code",
   "execution_count": 34,
   "id": "3a157675",
   "metadata": {
    "scrolled": false
   },
   "outputs": [
    {
     "data": {
      "text/plain": [
       "<AxesSubplot:>"
      ]
     },
     "execution_count": 34,
     "metadata": {},
     "output_type": "execute_result"
    },
    {
     "data": {
      "text/plain": [
       "<Figure size 432x288 with 0 Axes>"
      ]
     },
     "metadata": {},
     "output_type": "display_data"
    },
    {
     "data": {
      "image/png": "[encoded data removed]",
      "text/plain": [
       "<Figure size 864x864 with 1 Axes>"
      ]
     },
     "metadata": {
      "needs_background": "light"
     },
     "output_type": "display_data"
    }
   ],
   "source": [
    "# There are lot's of outliers, but it's okay, this is much better\n",
    "fig = plt.figure()  # an empty figure with no Axes\n",
    "fig, ax = plt.subplots()  # a figure with a single Axes\n",
    "fig.set_figheight(12)\n",
    "fig.set_figwidth(12)\n",
    "listing_df.boxplot(column= ['price'])\n",
    "    "
   ]
  },
  {
   "cell_type": "markdown",
   "id": "d11494f1",
   "metadata": {},
   "source": [
    "First, I create a model only using numerical features, later I will include categorical features and see if this makes a difference"
   ]
  },
  {
   "cell_type": "code",
   "execution_count": 35,
   "id": "b85dd603",
   "metadata": {},
   "outputs": [],
   "source": [
    "num_df = listing_df.select_dtypes(include=['int64','float64'])"
   ]
  },
  {
   "cell_type": "code",
   "execution_count": 36,
   "id": "787384a1",
   "metadata": {},
   "outputs": [
    {
     "data": {
      "text/html": [
       "<div>\n",
       "<style scoped>\n",
       "    .dataframe tbody tr th:only-of-type {\n",
       "        vertical-align: middle;\n",
       "    }\n",
       "\n",
       "    .dataframe tbody tr th {\n",
       "        vertical-align: top;\n",
       "    }\n",
       "\n",
       "    .dataframe thead th {\n",
       "        text-align: right;\n",
       "    }\n",
       "</style>\n",
       "<table border=\"1\" class=\"dataframe\">\n",
       "  <thead>\n",
       "    <tr style=\"text-align: right;\">\n",
       "      <th></th>\n",
       "      <th>id</th>\n",
       "      <th>host_id</th>\n",
       "      <th>host_response_rate</th>\n",
       "      <th>host_acceptance_rate</th>\n",
       "      <th>host_is_superhost</th>\n",
       "      <th>host_total_listings_count</th>\n",
       "      <th>latitude</th>\n",
       "      <th>longitude</th>\n",
       "      <th>accommodates</th>\n",
       "      <th>bedrooms</th>\n",
       "      <th>beds</th>\n",
       "      <th>price</th>\n",
       "      <th>minimum_nights</th>\n",
       "      <th>maximum_nights</th>\n",
       "      <th>minimum_minimum_nights</th>\n",
       "      <th>maximum_minimum_nights</th>\n",
       "      <th>minimum_maximum_nights</th>\n",
       "      <th>maximum_maximum_nights</th>\n",
       "      <th>minimum_nights_avg_ntm</th>\n",
       "      <th>maximum_nights_avg_ntm</th>\n",
       "      <th>availability_30</th>\n",
       "      <th>availability_60</th>\n",
       "      <th>availability_90</th>\n",
       "      <th>availability_365</th>\n",
       "      <th>number_of_reviews</th>\n",
       "      <th>number_of_reviews_ltm</th>\n",
       "      <th>number_of_reviews_l30d</th>\n",
       "      <th>review_scores_rating</th>\n",
       "      <th>review_scores_accuracy</th>\n",
       "      <th>review_scores_cleanliness</th>\n",
       "      <th>review_scores_checkin</th>\n",
       "      <th>review_scores_communication</th>\n",
       "      <th>review_scores_location</th>\n",
       "      <th>review_scores_value</th>\n",
       "      <th>instant_bookable</th>\n",
       "      <th>calculated_host_listings_count</th>\n",
       "      <th>calculated_host_listings_count_entire_homes</th>\n",
       "      <th>calculated_host_listings_count_private_rooms</th>\n",
       "      <th>calculated_host_listings_count_shared_rooms</th>\n",
       "      <th>reviews_per_month</th>\n",
       "    </tr>\n",
       "  </thead>\n",
       "  <tbody>\n",
       "    <tr>\n",
       "      <th>0</th>\n",
       "      <td>6369</td>\n",
       "      <td>13660</td>\n",
       "      <td>100</td>\n",
       "      <td>84</td>\n",
       "      <td>0.0</td>\n",
       "      <td>1.0</td>\n",
       "      <td>40.45724</td>\n",
       "      <td>-3.67688</td>\n",
       "      <td>2</td>\n",
       "      <td>1.0</td>\n",
       "      <td>1.0</td>\n",
       "      <td>69.0</td>\n",
       "      <td>3</td>\n",
       "      <td>1125</td>\n",
       "      <td>1.0</td>\n",
       "      <td>21.0</td>\n",
       "      <td>8.0</td>\n",
       "      <td>1125.0</td>\n",
       "      <td>6.0</td>\n",
       "      <td>1122.5</td>\n",
       "      <td>5</td>\n",
       "      <td>12</td>\n",
       "      <td>22</td>\n",
       "      <td>92</td>\n",
       "      <td>95</td>\n",
       "      <td>17</td>\n",
       "      <td>3</td>\n",
       "      <td>4.86</td>\n",
       "      <td>4.90</td>\n",
       "      <td>4.81</td>\n",
       "      <td>4.74</td>\n",
       "      <td>4.84</td>\n",
       "      <td>4.82</td>\n",
       "      <td>4.84</td>\n",
       "      <td>0</td>\n",
       "      <td>1</td>\n",
       "      <td>0</td>\n",
       "      <td>1</td>\n",
       "      <td>0</td>\n",
       "      <td>0.64</td>\n",
       "    </tr>\n",
       "    <tr>\n",
       "      <th>1</th>\n",
       "      <td>336672</td>\n",
       "      <td>1716726</td>\n",
       "      <td>100</td>\n",
       "      <td>98</td>\n",
       "      <td>1.0</td>\n",
       "      <td>5.0</td>\n",
       "      <td>40.39516</td>\n",
       "      <td>-3.69309</td>\n",
       "      <td>6</td>\n",
       "      <td>4.0</td>\n",
       "      <td>4.0</td>\n",
       "      <td>106.0</td>\n",
       "      <td>3</td>\n",
       "      <td>35</td>\n",
       "      <td>1.0</td>\n",
       "      <td>3.0</td>\n",
       "      <td>1125.0</td>\n",
       "      <td>1125.0</td>\n",
       "      <td>1.7</td>\n",
       "      <td>1125.0</td>\n",
       "      <td>4</td>\n",
       "      <td>18</td>\n",
       "      <td>41</td>\n",
       "      <td>41</td>\n",
       "      <td>82</td>\n",
       "      <td>25</td>\n",
       "      <td>4</td>\n",
       "      <td>4.82</td>\n",
       "      <td>4.82</td>\n",
       "      <td>4.62</td>\n",
       "      <td>4.80</td>\n",
       "      <td>4.94</td>\n",
       "      <td>4.80</td>\n",
       "      <td>4.76</td>\n",
       "      <td>0</td>\n",
       "      <td>5</td>\n",
       "      <td>1</td>\n",
       "      <td>4</td>\n",
       "      <td>0</td>\n",
       "      <td>1.50</td>\n",
       "    </tr>\n",
       "    <tr>\n",
       "      <th>2</th>\n",
       "      <td>21853</td>\n",
       "      <td>83531</td>\n",
       "      <td>&lt;NA&gt;</td>\n",
       "      <td>0</td>\n",
       "      <td>0.0</td>\n",
       "      <td>2.0</td>\n",
       "      <td>40.40381</td>\n",
       "      <td>-3.74130</td>\n",
       "      <td>1</td>\n",
       "      <td>1.0</td>\n",
       "      <td>1.0</td>\n",
       "      <td>31.0</td>\n",
       "      <td>4</td>\n",
       "      <td>40</td>\n",
       "      <td>4.0</td>\n",
       "      <td>4.0</td>\n",
       "      <td>40.0</td>\n",
       "      <td>40.0</td>\n",
       "      <td>4.0</td>\n",
       "      <td>40.0</td>\n",
       "      <td>0</td>\n",
       "      <td>5</td>\n",
       "      <td>35</td>\n",
       "      <td>310</td>\n",
       "      <td>33</td>\n",
       "      <td>0</td>\n",
       "      <td>0</td>\n",
       "      <td>4.58</td>\n",
       "      <td>4.72</td>\n",
       "      <td>4.56</td>\n",
       "      <td>4.75</td>\n",
       "      <td>4.82</td>\n",
       "      <td>4.21</td>\n",
       "      <td>4.67</td>\n",
       "      <td>0</td>\n",
       "      <td>2</td>\n",
       "      <td>0</td>\n",
       "      <td>2</td>\n",
       "      <td>0</td>\n",
       "      <td>0.35</td>\n",
       "    </tr>\n",
       "    <tr>\n",
       "      <th>3</th>\n",
       "      <td>336834</td>\n",
       "      <td>1713427</td>\n",
       "      <td>100</td>\n",
       "      <td>89</td>\n",
       "      <td>0.0</td>\n",
       "      <td>1.0</td>\n",
       "      <td>40.42242</td>\n",
       "      <td>-3.69562</td>\n",
       "      <td>5</td>\n",
       "      <td>2.0</td>\n",
       "      <td>3.0</td>\n",
       "      <td>65.0</td>\n",
       "      <td>5</td>\n",
       "      <td>1125</td>\n",
       "      <td>5.0</td>\n",
       "      <td>5.0</td>\n",
       "      <td>1125.0</td>\n",
       "      <td>1125.0</td>\n",
       "      <td>5.0</td>\n",
       "      <td>1125.0</td>\n",
       "      <td>0</td>\n",
       "      <td>7</td>\n",
       "      <td>7</td>\n",
       "      <td>7</td>\n",
       "      <td>46</td>\n",
       "      <td>2</td>\n",
       "      <td>0</td>\n",
       "      <td>4.62</td>\n",
       "      <td>4.75</td>\n",
       "      <td>4.25</td>\n",
       "      <td>4.86</td>\n",
       "      <td>4.77</td>\n",
       "      <td>4.95</td>\n",
       "      <td>4.60</td>\n",
       "      <td>0</td>\n",
       "      <td>1</td>\n",
       "      <td>1</td>\n",
       "      <td>0</td>\n",
       "      <td>0</td>\n",
       "      <td>0.37</td>\n",
       "    </tr>\n",
       "    <tr>\n",
       "      <th>4</th>\n",
       "      <td>23001</td>\n",
       "      <td>82175</td>\n",
       "      <td>100</td>\n",
       "      <td>74</td>\n",
       "      <td>0.0</td>\n",
       "      <td>9.0</td>\n",
       "      <td>40.38840</td>\n",
       "      <td>-3.69511</td>\n",
       "      <td>6</td>\n",
       "      <td>3.0</td>\n",
       "      <td>3.0</td>\n",
       "      <td>46.0</td>\n",
       "      <td>15</td>\n",
       "      <td>730</td>\n",
       "      <td>15.0</td>\n",
       "      <td>15.0</td>\n",
       "      <td>730.0</td>\n",
       "      <td>730.0</td>\n",
       "      <td>15.0</td>\n",
       "      <td>730.0</td>\n",
       "      <td>8</td>\n",
       "      <td>33</td>\n",
       "      <td>63</td>\n",
       "      <td>319</td>\n",
       "      <td>1</td>\n",
       "      <td>1</td>\n",
       "      <td>0</td>\n",
       "      <td>5.00</td>\n",
       "      <td>5.00</td>\n",
       "      <td>4.00</td>\n",
       "      <td>5.00</td>\n",
       "      <td>5.00</td>\n",
       "      <td>4.00</td>\n",
       "      <td>5.00</td>\n",
       "      <td>0</td>\n",
       "      <td>7</td>\n",
       "      <td>7</td>\n",
       "      <td>0</td>\n",
       "      <td>0</td>\n",
       "      <td>0.30</td>\n",
       "    </tr>\n",
       "  </tbody>\n",
       "</table>\n",
       "</div>"
      ],
      "text/plain": [
       "       id  host_id  host_response_rate  host_acceptance_rate  \\\n",
       "0    6369    13660                 100                    84   \n",
       "1  336672  1716726                 100                    98   \n",
       "2   21853    83531                <NA>                     0   \n",
       "3  336834  1713427                 100                    89   \n",
       "4   23001    82175                 100                    74   \n",
       "\n",
       "   host_is_superhost  host_total_listings_count  latitude  longitude  \\\n",
       "0                0.0                        1.0  40.45724   -3.67688   \n",
       "1                1.0                        5.0  40.39516   -3.69309   \n",
       "2                0.0                        2.0  40.40381   -3.74130   \n",
       "3                0.0                        1.0  40.42242   -3.69562   \n",
       "4                0.0                        9.0  40.38840   -3.69511   \n",
       "\n",
       "   accommodates  bedrooms  beds  price  minimum_nights  maximum_nights  \\\n",
       "0             2       1.0   1.0   69.0               3            1125   \n",
       "1             6       4.0   4.0  106.0               3              35   \n",
       "2             1       1.0   1.0   31.0               4              40   \n",
       "3             5       2.0   3.0   65.0               5            1125   \n",
       "4             6       3.0   3.0   46.0              15             730   \n",
       "\n",
       "   minimum_minimum_nights  maximum_minimum_nights  minimum_maximum_nights  \\\n",
       "0                     1.0                    21.0                     8.0   \n",
       "1                     1.0                     3.0                  1125.0   \n",
       "2                     4.0                     4.0                    40.0   \n",
       "3                     5.0                     5.0                  1125.0   \n",
       "4                    15.0                    15.0                   730.0   \n",
       "\n",
       "   maximum_maximum_nights  minimum_nights_avg_ntm  maximum_nights_avg_ntm  \\\n",
       "0                  1125.0                     6.0                  1122.5   \n",
       "1                  1125.0                     1.7                  1125.0   \n",
       "2                    40.0                     4.0                    40.0   \n",
       "3                  1125.0                     5.0                  1125.0   \n",
       "4                   730.0                    15.0                   730.0   \n",
       "\n",
       "   availability_30  availability_60  availability_90  availability_365  \\\n",
       "0                5               12               22                92   \n",
       "1                4               18               41                41   \n",
       "2                0                5               35               310   \n",
       "3                0                7                7                 7   \n",
       "4                8               33               63               319   \n",
       "\n",
       "   number_of_reviews  number_of_reviews_ltm  number_of_reviews_l30d  \\\n",
       "0                 95                     17                       3   \n",
       "1                 82                     25                       4   \n",
       "2                 33                      0                       0   \n",
       "3                 46                      2                       0   \n",
       "4                  1                      1                       0   \n",
       "\n",
       "   review_scores_rating  review_scores_accuracy  review_scores_cleanliness  \\\n",
       "0                  4.86                    4.90                       4.81   \n",
       "1                  4.82                    4.82                       4.62   \n",
       "2                  4.58                    4.72                       4.56   \n",
       "3                  4.62                    4.75                       4.25   \n",
       "4                  5.00                    5.00                       4.00   \n",
       "\n",
       "   review_scores_checkin  review_scores_communication  review_scores_location  \\\n",
       "0                   4.74                         4.84                    4.82   \n",
       "1                   4.80                         4.94                    4.80   \n",
       "2                   4.75                         4.82                    4.21   \n",
       "3                   4.86                         4.77                    4.95   \n",
       "4                   5.00                         5.00                    4.00   \n",
       "\n",
       "   review_scores_value  instant_bookable  calculated_host_listings_count  \\\n",
       "0                 4.84                 0                               1   \n",
       "1                 4.76                 0                               5   \n",
       "2                 4.67                 0                               2   \n",
       "3                 4.60                 0                               1   \n",
       "4                 5.00                 0                               7   \n",
       "\n",
       "   calculated_host_listings_count_entire_homes  \\\n",
       "0                                            0   \n",
       "1                                            1   \n",
       "2                                            0   \n",
       "3                                            1   \n",
       "4                                            7   \n",
       "\n",
       "   calculated_host_listings_count_private_rooms  \\\n",
       "0                                             1   \n",
       "1                                             4   \n",
       "2                                             2   \n",
       "3                                             0   \n",
       "4                                             0   \n",
       "\n",
       "   calculated_host_listings_count_shared_rooms  reviews_per_month  \n",
       "0                                            0               0.64  \n",
       "1                                            0               1.50  \n",
       "2                                            0               0.35  \n",
       "3                                            0               0.37  \n",
       "4                                            0               0.30  "
      ]
     },
     "execution_count": 36,
     "metadata": {},
     "output_type": "execute_result"
    }
   ],
   "source": [
    "num_df.head()"
   ]
  },
  {
   "cell_type": "code",
   "execution_count": 37,
   "id": "caee4d36",
   "metadata": {
    "scrolled": false
   },
   "outputs": [
    {
     "data": {
      "text/plain": [
       "id                                                 0\n",
       "host_id                                            0\n",
       "host_response_rate                              4501\n",
       "host_acceptance_rate                            3917\n",
       "host_is_superhost                                 27\n",
       "host_total_listings_count                         27\n",
       "latitude                                           0\n",
       "longitude                                          0\n",
       "accommodates                                       0\n",
       "bedrooms                                        1349\n",
       "beds                                             359\n",
       "price                                              0\n",
       "minimum_nights                                     0\n",
       "maximum_nights                                     0\n",
       "minimum_minimum_nights                             1\n",
       "maximum_minimum_nights                             1\n",
       "minimum_maximum_nights                             1\n",
       "maximum_maximum_nights                             1\n",
       "minimum_nights_avg_ntm                             1\n",
       "maximum_nights_avg_ntm                             1\n",
       "availability_30                                    0\n",
       "availability_60                                    0\n",
       "availability_90                                    0\n",
       "availability_365                                   0\n",
       "number_of_reviews                                  0\n",
       "number_of_reviews_ltm                              0\n",
       "number_of_reviews_l30d                             0\n",
       "review_scores_rating                            3761\n",
       "review_scores_accuracy                          3906\n",
       "review_scores_cleanliness                       3904\n",
       "review_scores_checkin                           3905\n",
       "review_scores_communication                     3905\n",
       "review_scores_location                          3908\n",
       "review_scores_value                             3909\n",
       "instant_bookable                                   0\n",
       "calculated_host_listings_count                     0\n",
       "calculated_host_listings_count_entire_homes        0\n",
       "calculated_host_listings_count_private_rooms       0\n",
       "calculated_host_listings_count_shared_rooms        0\n",
       "reviews_per_month                               3761\n",
       "dtype: int64"
      ]
     },
     "execution_count": 37,
     "metadata": {},
     "output_type": "execute_result"
    }
   ],
   "source": [
    "num_df.isnull().sum()"
   ]
  },
  {
   "cell_type": "markdown",
   "id": "6d6ebcc6",
   "metadata": {},
   "source": [
    "*Imputate null values with their mean*"
   ]
  },
  {
   "cell_type": "code",
   "execution_count": 38,
   "id": "61f7b58c",
   "metadata": {},
   "outputs": [],
   "source": [
    "int_fillmean = lambda x: x.fillna(round(x.mean()))\n",
    "num_df = num_df.apply(int_fillmean, axis=0)"
   ]
  },
  {
   "cell_type": "code",
   "execution_count": 39,
   "id": "bcf8316c",
   "metadata": {
    "scrolled": true
   },
   "outputs": [
    {
     "name": "stderr",
     "output_type": "stream",
     "text": [
      "C:\\Users\\Carbonero\\AppData\\Local\\Programs\\Python\\Python39\\lib\\site-packages\\sklearn\\linear_model\\_base.py:141: FutureWarning: 'normalize' was deprecated in version 1.0 and will be removed in 1.2.\n",
      "If you wish to scale the data, use Pipeline with a StandardScaler in a preprocessing stage. To reproduce the previous behavior:\n",
      "\n",
      "from sklearn.pipeline import make_pipeline\n",
      "\n",
      "model = make_pipeline(StandardScaler(with_mean=False), LinearRegression())\n",
      "\n",
      "If you wish to pass a sample_weight parameter, you need to pass it as a fit parameter to each step of the pipeline as follows:\n",
      "\n",
      "kwargs = {s[0] + '__sample_weight': sample_weight for s in model.steps}\n",
      "model.fit(X, y, **kwargs)\n",
      "\n",
      "\n",
      "  warnings.warn(\n"
     ]
    },
    {
     "data": {
      "text/plain": [
       "'The r-squared score for your model was 0.44348746699884045 on 5556 values.'"
      ]
     },
     "execution_count": 39,
     "metadata": {},
     "output_type": "execute_result"
    }
   ],
   "source": [
    "X = num_df.drop(columns = ['price'])\n",
    "y = num_df['price']\n",
    "\n",
    "X_train, X_test, y_train, y_test = train_test_split(X, y, test_size = .30, random_state=42)\n",
    "\n",
    "\n",
    "\n",
    "#Four steps:\n",
    "\n",
    "#Instantiate\n",
    "\n",
    "lm_model = LinearRegression(normalize=True) \n",
    "\n",
    "#Fit - why does this break?\n",
    "lm_model.fit(X_train, y_train) \n",
    "\n",
    "#Predict\n",
    "#Score\n",
    "y_test_preds = lm_model.predict(X_test) \n",
    "rsquared_score = r2_score(y_test, y_test_preds)\n",
    "length_y_test = len(y_test)\n",
    "\"The r-squared score for your model was {} on {} values.\".format(r2_score(y_test, y_test_preds), len(y_test))"
   ]
  },
  {
   "cell_type": "code",
   "execution_count": 40,
   "id": "c9e23bf6",
   "metadata": {},
   "outputs": [],
   "source": [
    "def coef_weights(coefficients, X_train):\n",
    "    '''\n",
    "    INPUT:\n",
    "    coefficients - the coefficients of the linear model \n",
    "    X_train - the training data, so the column names can be used\n",
    "    OUTPUT:\n",
    "    coefs_df - a dataframe holding the coefficient, estimate, and abs(estimate)\n",
    "    \n",
    "    Provides a dataframe that can be used to understand the most influential coefficients\n",
    "    in a linear model by providing the coefficient estimates along with the name of the \n",
    "    variable attached to the coefficient.\n",
    "    '''\n",
    "    coefs_df = pd.DataFrame()\n",
    "    coefs_df['est_int'] = X_train.columns\n",
    "    coefs_df['coefs'] = lm_model.coef_\n",
    "    coefs_df['abs_coefs'] = np.abs(lm_model.coef_)\n",
    "    coefs_df = coefs_df.sort_values('abs_coefs', ascending=False)\n",
    "    return coefs_df"
   ]
  },
  {
   "cell_type": "code",
   "execution_count": 41,
   "id": "a2636a52",
   "metadata": {
    "scrolled": true
   },
   "outputs": [
    {
     "data": {
      "text/html": [
       "<div>\n",
       "<style scoped>\n",
       "    .dataframe tbody tr th:only-of-type {\n",
       "        vertical-align: middle;\n",
       "    }\n",
       "\n",
       "    .dataframe tbody tr th {\n",
       "        vertical-align: top;\n",
       "    }\n",
       "\n",
       "    .dataframe thead th {\n",
       "        text-align: right;\n",
       "    }\n",
       "</style>\n",
       "<table border=\"1\" class=\"dataframe\">\n",
       "  <thead>\n",
       "    <tr style=\"text-align: right;\">\n",
       "      <th></th>\n",
       "      <th>est_int</th>\n",
       "      <th>coefs</th>\n",
       "      <th>abs_coefs</th>\n",
       "    </tr>\n",
       "  </thead>\n",
       "  <tbody>\n",
       "    <tr>\n",
       "      <th>6</th>\n",
       "      <td>latitude</td>\n",
       "      <td>125.291300</td>\n",
       "      <td>125.291300</td>\n",
       "    </tr>\n",
       "    <tr>\n",
       "      <th>31</th>\n",
       "      <td>review_scores_location</td>\n",
       "      <td>29.746721</td>\n",
       "      <td>29.746721</td>\n",
       "    </tr>\n",
       "    <tr>\n",
       "      <th>7</th>\n",
       "      <td>longitude</td>\n",
       "      <td>-19.466494</td>\n",
       "      <td>19.466494</td>\n",
       "    </tr>\n",
       "    <tr>\n",
       "      <th>8</th>\n",
       "      <td>accommodates</td>\n",
       "      <td>16.946961</td>\n",
       "      <td>16.946961</td>\n",
       "    </tr>\n",
       "    <tr>\n",
       "      <th>4</th>\n",
       "      <td>host_is_superhost</td>\n",
       "      <td>10.757132</td>\n",
       "      <td>10.757132</td>\n",
       "    </tr>\n",
       "    <tr>\n",
       "      <th>33</th>\n",
       "      <td>instant_bookable</td>\n",
       "      <td>10.594785</td>\n",
       "      <td>10.594785</td>\n",
       "    </tr>\n",
       "    <tr>\n",
       "      <th>9</th>\n",
       "      <td>bedrooms</td>\n",
       "      <td>9.648689</td>\n",
       "      <td>9.648689</td>\n",
       "    </tr>\n",
       "    <tr>\n",
       "      <th>28</th>\n",
       "      <td>review_scores_cleanliness</td>\n",
       "      <td>9.375080</td>\n",
       "      <td>9.375080</td>\n",
       "    </tr>\n",
       "    <tr>\n",
       "      <th>30</th>\n",
       "      <td>review_scores_communication</td>\n",
       "      <td>-7.703041</td>\n",
       "      <td>7.703041</td>\n",
       "    </tr>\n",
       "    <tr>\n",
       "      <th>37</th>\n",
       "      <td>calculated_host_listings_count_shared_rooms</td>\n",
       "      <td>-6.625172</td>\n",
       "      <td>6.625172</td>\n",
       "    </tr>\n",
       "    <tr>\n",
       "      <th>32</th>\n",
       "      <td>review_scores_value</td>\n",
       "      <td>-5.840591</td>\n",
       "      <td>5.840591</td>\n",
       "    </tr>\n",
       "    <tr>\n",
       "      <th>36</th>\n",
       "      <td>calculated_host_listings_count_private_rooms</td>\n",
       "      <td>-5.240988</td>\n",
       "      <td>5.240988</td>\n",
       "    </tr>\n",
       "    <tr>\n",
       "      <th>34</th>\n",
       "      <td>calculated_host_listings_count</td>\n",
       "      <td>4.362285</td>\n",
       "      <td>4.362285</td>\n",
       "    </tr>\n",
       "    <tr>\n",
       "      <th>35</th>\n",
       "      <td>calculated_host_listings_count_entire_homes</td>\n",
       "      <td>-4.025373</td>\n",
       "      <td>4.025373</td>\n",
       "    </tr>\n",
       "    <tr>\n",
       "      <th>25</th>\n",
       "      <td>number_of_reviews_l30d</td>\n",
       "      <td>-2.758391</td>\n",
       "      <td>2.758391</td>\n",
       "    </tr>\n",
       "    <tr>\n",
       "      <th>26</th>\n",
       "      <td>review_scores_rating</td>\n",
       "      <td>2.421994</td>\n",
       "      <td>2.421994</td>\n",
       "    </tr>\n",
       "    <tr>\n",
       "      <th>19</th>\n",
       "      <td>availability_30</td>\n",
       "      <td>1.627790</td>\n",
       "      <td>1.627790</td>\n",
       "    </tr>\n",
       "    <tr>\n",
       "      <th>38</th>\n",
       "      <td>reviews_per_month</td>\n",
       "      <td>1.597865</td>\n",
       "      <td>1.597865</td>\n",
       "    </tr>\n",
       "    <tr>\n",
       "      <th>27</th>\n",
       "      <td>review_scores_accuracy</td>\n",
       "      <td>-1.346143</td>\n",
       "      <td>1.346143</td>\n",
       "    </tr>\n",
       "    <tr>\n",
       "      <th>20</th>\n",
       "      <td>availability_60</td>\n",
       "      <td>-0.365966</td>\n",
       "      <td>0.365966</td>\n",
       "    </tr>\n",
       "  </tbody>\n",
       "</table>\n",
       "</div>"
      ],
      "text/plain": [
       "                                         est_int       coefs   abs_coefs\n",
       "6                                       latitude  125.291300  125.291300\n",
       "31                        review_scores_location   29.746721   29.746721\n",
       "7                                      longitude  -19.466494   19.466494\n",
       "8                                   accommodates   16.946961   16.946961\n",
       "4                              host_is_superhost   10.757132   10.757132\n",
       "33                              instant_bookable   10.594785   10.594785\n",
       "9                                       bedrooms    9.648689    9.648689\n",
       "28                     review_scores_cleanliness    9.375080    9.375080\n",
       "30                   review_scores_communication   -7.703041    7.703041\n",
       "37   calculated_host_listings_count_shared_rooms   -6.625172    6.625172\n",
       "32                           review_scores_value   -5.840591    5.840591\n",
       "36  calculated_host_listings_count_private_rooms   -5.240988    5.240988\n",
       "34                calculated_host_listings_count    4.362285    4.362285\n",
       "35   calculated_host_listings_count_entire_homes   -4.025373    4.025373\n",
       "25                        number_of_reviews_l30d   -2.758391    2.758391\n",
       "26                          review_scores_rating    2.421994    2.421994\n",
       "19                               availability_30    1.627790    1.627790\n",
       "38                             reviews_per_month    1.597865    1.597865\n",
       "27                        review_scores_accuracy   -1.346143    1.346143\n",
       "20                               availability_60   -0.365966    0.365966"
      ]
     },
     "execution_count": 41,
     "metadata": {},
     "output_type": "execute_result"
    }
   ],
   "source": [
    "# This are the weigths of the coefficients\n",
    "coef_df = coef_weights(lm_model.coef_, X_train)\n",
    "coef_df.head(20)"
   ]
  },
  {
   "cell_type": "markdown",
   "id": "e2a2a8c6",
   "metadata": {},
   "source": [
    "Now, let's inclue categorical variables and see if this improve the performance of the model"
   ]
  },
  {
   "cell_type": "code",
   "execution_count": 42,
   "id": "a44fb223",
   "metadata": {},
   "outputs": [],
   "source": [
    "cat_df = listing_df.select_dtypes(include=['object'])"
   ]
  },
  {
   "cell_type": "code",
   "execution_count": 43,
   "id": "10e401b8",
   "metadata": {},
   "outputs": [
    {
     "data": {
      "text/plain": [
       "Index(['name', 'description', 'host_name', 'host_since', 'host_location',\n",
       "       'host_response_time', 'host_verifications', 'host_has_profile_pic',\n",
       "       'host_identity_verified', 'neighbourhood_cleansed',\n",
       "       'neighbourhood_group_cleansed', 'property_type', 'room_type',\n",
       "       'bathrooms_text', 'amenities', 'has_availability', 'first_review',\n",
       "       'last_review'],\n",
       "      dtype='object')"
      ]
     },
     "execution_count": 43,
     "metadata": {},
     "output_type": "execute_result"
    }
   ],
   "source": [
    "cat_df.columns"
   ]
  },
  {
   "cell_type": "code",
   "execution_count": 44,
   "id": "646e7925",
   "metadata": {},
   "outputs": [],
   "source": [
    "#Let's select the most interesting features...\n",
    "cat_2_df = cat_df[['neighbourhood_group_cleansed','bathrooms_text','room_type','host_response_time','room_type']]"
   ]
  },
  {
   "cell_type": "markdown",
   "id": "9796e798",
   "metadata": {},
   "source": [
    "*We create the dummy variables through this function that also takes care of the missing values*"
   ]
  },
  {
   "cell_type": "code",
   "execution_count": 45,
   "id": "603557e6",
   "metadata": {},
   "outputs": [],
   "source": [
    "data_cat_dum = create_dummy_df(cat_2_df, cat_2_df.columns, dummy_na = False)"
   ]
  },
  {
   "cell_type": "code",
   "execution_count": 46,
   "id": "0ff68650",
   "metadata": {},
   "outputs": [],
   "source": [
    "data_concat = pd.concat([num_df, data_cat_dum],axis = 1)"
   ]
  },
  {
   "cell_type": "code",
   "execution_count": 47,
   "id": "c549e739",
   "metadata": {
    "scrolled": false
   },
   "outputs": [
    {
     "name": "stderr",
     "output_type": "stream",
     "text": [
      "C:\\Users\\Carbonero\\AppData\\Local\\Programs\\Python\\Python39\\lib\\site-packages\\sklearn\\linear_model\\_base.py:141: FutureWarning: 'normalize' was deprecated in version 1.0 and will be removed in 1.2.\n",
      "If you wish to scale the data, use Pipeline with a StandardScaler in a preprocessing stage. To reproduce the previous behavior:\n",
      "\n",
      "from sklearn.pipeline import make_pipeline\n",
      "\n",
      "model = make_pipeline(StandardScaler(with_mean=False), LinearRegression())\n",
      "\n",
      "If you wish to pass a sample_weight parameter, you need to pass it as a fit parameter to each step of the pipeline as follows:\n",
      "\n",
      "kwargs = {s[0] + '__sample_weight': sample_weight for s in model.steps}\n",
      "model.fit(X, y, **kwargs)\n",
      "\n",
      "\n",
      "  warnings.warn(\n"
     ]
    }
   ],
   "source": [
    "X = data_concat.drop(columns = 'price')\n",
    "y = data_concat['price']\n",
    "\n",
    "X_train, X_test, y_train, y_test = train_test_split(X, y, test_size = .30, random_state=42)\n",
    "\n",
    "#Four steps:\n",
    "\n",
    "#Instantiate\n",
    "lm_model = LinearRegression(normalize=True) \n",
    "\n",
    "#Fit - why does this break?\n",
    "lm_model.fit(X_train, y_train) \n",
    "\n",
    "y_test_preds = lm_model.predict(X_test) \n",
    "rsquared_score = r2_score(y_test, y_test_preds)\n",
    "length_y_test = len(y_test)\n"
   ]
  },
  {
   "cell_type": "markdown",
   "id": "a03e27c7",
   "metadata": {},
   "source": [
    "## 5.- *Result evaluation*"
   ]
  },
  {
   "cell_type": "code",
   "execution_count": 48,
   "id": "e32c0147",
   "metadata": {},
   "outputs": [
    {
     "data": {
      "text/plain": [
       "'The r-squared score for your model was 0.5233911477683991 on 5556 values.'"
      ]
     },
     "execution_count": 48,
     "metadata": {},
     "output_type": "execute_result"
    }
   ],
   "source": [
    "\"The r-squared score for your model was {} on {} values.\".format(r2_score(y_test, y_test_preds), len(y_test))"
   ]
  },
  {
   "cell_type": "markdown",
   "id": "faf2285f",
   "metadata": {},
   "source": [
    "**Answer 5**:<br>\n",
    "Since the value of the r-square is 0.5234 we cannot say that we can predict or estimate the price of an accomodating based on the other selected features. A r-square of 0.75 or more will be enougth.\n"
   ]
  }
 ],
 "metadata": {
  "kernelspec": {
   "display_name": "Python 3 (ipykernel)",
   "language": "python",
   "name": "python3"
  },
  "language_info": {
   "codemirror_mode": {
    "name": "ipython",
    "version": 3
   },
   "file_extension": ".py",
   "mimetype": "text/x-python",
   "name": "python",
   "nbconvert_exporter": "python",
   "pygments_lexer": "ipython3",
   "version": "3.9.7"
  }
 },
 "nbformat": 4,
 "nbformat_minor": 5
}
